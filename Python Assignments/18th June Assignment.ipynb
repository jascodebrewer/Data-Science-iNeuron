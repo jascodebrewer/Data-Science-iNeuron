{
 "cells": [
  {
   "cell_type": "markdown",
   "id": "be997db4",
   "metadata": {},
   "source": [
    "1. What is the role of the 'else' block in a try-except statement? Provide an example\n",
    "scenario where it would be useful.\n",
    "\n",
    "Else block is implemented if there is no exception or error! The 'else' block is useful in scenarios where you want to perform certain actions only when no exceptions occur.\n",
    "\n",
    "Example:"
   ]
  },
  {
   "cell_type": "code",
   "execution_count": 8,
   "id": "7b6e9473",
   "metadata": {},
   "outputs": [
    {
     "name": "stdout",
     "output_type": "stream",
     "text": [
      "There is no error\n",
      "And the result is:  5.0\n"
     ]
    }
   ],
   "source": [
    "try:\n",
    "    x = 10\n",
    "    y = 2\n",
    "    d = x/y\n",
    "    \n",
    "except ZeroDivisionError:\n",
    "    print(\"You have divided the number by zero\")\n",
    "    \n",
    "else: \n",
    "    print(\"There is no error\")\n",
    "    print(\"And the result is: \", d)"
   ]
  },
  {
   "cell_type": "markdown",
   "id": "bce63dcb",
   "metadata": {},
   "source": [
    "2. Can a try-except block be nested inside another try-except block? Explain with an\n",
    "example.\n",
    "\n",
    "A try-except block can indeed be nested inside another try-except block as shown in example below:"
   ]
  },
  {
   "cell_type": "code",
   "execution_count": 18,
   "id": "b07612a5",
   "metadata": {},
   "outputs": [
    {
     "name": "stdout",
     "output_type": "stream",
     "text": [
      "Enter first number: 10\n",
      "Enter second number: 10.2\n",
      "Please enter only integer values\n"
     ]
    }
   ],
   "source": [
    "try:\n",
    "    x = int(input(\"Enter first number: \"))\n",
    "    y = int(input(\"Enter second number: \"))\n",
    "    try:\n",
    "        d = x/y\n",
    "    except ZeroDivisionError:\n",
    "        print(\"You can\\'t divide a number by zero\")\n",
    "    else:\n",
    "        print(\"The result is: \", d)\n",
    "except ValueError:\n",
    "    print(\"Please enter only integer values\")"
   ]
  },
  {
   "cell_type": "markdown",
   "id": "363acbd0",
   "metadata": {},
   "source": [
    "3. How can you create a custom exception class in Python? Provide an example that\n",
    "demonstrates its usage.\n",
    "\n",
    "You can create a custom exception class by inheriting from built-in Exception class."
   ]
  },
  {
   "cell_type": "code",
   "execution_count": 21,
   "id": "1b90cbfc",
   "metadata": {},
   "outputs": [
    {
     "name": "stdout",
     "output_type": "stream",
     "text": [
      "Enter your first name: Bob\n",
      "Enter your last name: vance\n",
      "Please keep the first letter of name and lastname as capital!\n"
     ]
    }
   ],
   "source": [
    "class my_exception(Exception):\n",
    "        \n",
    "    def checkCapital(self):\n",
    "            print(\"Please keep the first letter of name and lastname as capital!\")      \n",
    "            \n",
    "try:\n",
    "    name = input(\"Enter your first name: \")\n",
    "    lastname = input(\"Enter your last name: \")\n",
    "    \n",
    "    if name != name.capitalize() or lastname != lastname.capitalize():\n",
    "        raise my_exception\n",
    "    else:\n",
    "        print(f\"Your first name is  {name} and last name is {lastname}\")\n",
    "        \n",
    "except my_exception as e:  \n",
    "    e.checkCapital()"
   ]
  },
  {
   "cell_type": "markdown",
   "id": "d992b32d",
   "metadata": {},
   "source": [
    "4. What are some common exceptions that are built-in to Python?\n",
    "\n",
    "Some common built-in exceptions in Python include:\n",
    "\n",
    "- ZeroDivisionError: This exception occurs when division or modulo operation is performed with 0 as the denominator.\n",
    "- ValueError: This exception occurs when a function receives an argument of the correct type but an inappropriate value.\n",
    "- SyntaxError: This exception occurs when there is a syntax error in the code.\n",
    "- IndentationError: This exception occurs when there is an issue with the indentation of code, such as mismatched or inconsistent indentation levels.\n",
    "- FileNotFoundError: This exception occurs when a file is requested or opened for reading, but the file cannot be found at the specified path.\n",
    "- ModuleNotFoundError: This exception occurs when an import statement tries to import a module that does not exist or is not found in the search path.\n",
    "- MemoryError: This exception occurs when the program runs out of available memory or storage."
   ]
  },
  {
   "cell_type": "markdown",
   "id": "58cad968",
   "metadata": {},
   "source": [
    "5. What is logging in Python, and why is it important in software development?\n",
    "\n",
    "Logging is recording or documenting events, messages, or data during the execution of a program.  \n",
    "It offers various logging levels, such as DEBUG, INFO, WARNING, ERROR, and CRITICAL, which allows to control the severity of the logged messages.  \n",
    "Additionally, one can configure the logging module to output the logs to different destinations, such as the console, files, or external services.  \n",
    "\n",
    "Logging is important in Python for reasons such as:\n",
    "- Logging allows developers to trace the flow of their program and track down issues or bugs.\n",
    "- Logging helps in monitoring and recording errors that occur during the execution of a program.\n",
    "- Logging can be used to measure the performance of a program or system.\n",
    "- Logging can provide valuable insights into the behavior and usage of an application"
   ]
  },
  {
   "cell_type": "markdown",
   "id": "151c7169",
   "metadata": {},
   "source": [
    "6. Explain the purpose of log levels in Python logging and provide examples of when each log level would be appropriate.\n",
    "\n",
    "The purpose of log levels in Python logging is to categorize and prioritize log messages based on their importance or severity. The logging levels defined in the logging module, in increasing order of severity, are:\n",
    "\n",
    "- DEBUG: Detailed information, typically useful for debugging purposes.\n",
    "- INFO: General information about the program's execution. It confirms that things are working as expected.\n",
    "- WARNING: Indicates a potential issue or situation that may cause problems in the future but doesn't necessarily interrupt the program's execution.\n",
    "- ERROR: Indicates a more severe problem or error that caused the program to fail to perform a specific task.\n",
    "- CRITICAL: The most severe logging level, indicating a critical error or problem that may result in the program's termination."
   ]
  },
  {
   "cell_type": "markdown",
   "id": "12001fba",
   "metadata": {},
   "source": [
    "7. What are log formatters in Python logging, and how can you customise the log message format using formatters?\n",
    "\n",
    "\n",
    "Log formatters in Python logging determine the structure and content of log messages and they define the format in which log records are presented when they are emitted by the logging system. It makes log messages more readable and informative.  \n",
    "\n",
    "Python's logging module provides a set of built-in formatters, such as logging.Formatter, which allows customization of the log message format.\n",
    "\n",
    "Some commonly used placeholders in log message formats include:\n",
    "\n",
    "- %(asctime)s: The timestamp of the log record.\n",
    "- %(levelname)s: The log level name (e.g., DEBUG, INFO, ERROR).\n",
    "- %(message)s: The actual log message content.\n",
    "- %(name)s: The name of the logger. \n",
    "- %(module)s: The name of the module where the logging call was made.\n",
    "- %(lineno)d: The line number where the logging call was made."
   ]
  },
  {
   "cell_type": "markdown",
   "id": "197dd24d",
   "metadata": {},
   "source": [
    "8. How can you set up logging to capture log messages from multiple modules or classes in a Python application?\n",
    "\n",
    "To capture log messages from multiple modules or classes in a Python application, following steps can be considered:\n",
    "\n",
    "1. Import the logging module, which provides the necessary functionality for logging.\n",
    "\n",
    "2. Create a logger instance using the logging.getLogger() method. Give the logger a unique name that identifies the module or class from which the log messages will be emitted.\n",
    "\n",
    "3. Set the desired log level for the logger using the logger.setLevel() method. This determines which log messages will be captured based on their severity.\n",
    "\n",
    "4. Configure a handler to define where the log messages will be outputted. You can use various handlers such as FileHandler to write messages to a file, or others.\n",
    "\n",
    "5. Set a formatter for the handler to specify the format of the log messages. This will determine how the log messages are displayed.\n",
    "\n",
    "6. Add the configured handler to the logger using the logger.addHandler() method. This associates the handler with the logger, enabling it to capture log messages.\n",
    "\n",
    "The above steps can be repeated for other modules or classes. "
   ]
  },
  {
   "cell_type": "markdown",
   "id": "09d25d27",
   "metadata": {},
   "source": [
    "9. What is the difference between the logging and print statements in Python? When should you use logging over print statements in a real-world application?\n",
    "\n",
    "- Logging is used to track and record events and associated information during program execution, while print statements are used to display output.\n",
    "- Print statements typically output to the console, whereas log messages can be directed to consoles, files, or external services.\n",
    "- Logging provides more advanced features like log levels, formatters, and different output handlers, whereas print statements are simpler.\n",
    "\n",
    "In real-world applications, logging is preferred in scenarios where you need to keep a record of events with timestamps, assess the severity of log events, or enable/disable logs based on configuration.\n",
    "\n",
    "Overall, logging is a more comprehensive and flexible solution for capturing and managing program events, while print statements are more basic and suited for immediate output during development."
   ]
  },
  {
   "cell_type": "markdown",
   "id": "e4220209",
   "metadata": {},
   "source": [
    "10. Write a Python program that logs a message to a file named \"app.log\" with the following requirements:\n",
    "\n",
    "● The log message should be \"Hello, World!\"  \n",
    "● The log level should be set to \"INFO.\"  \n",
    "● The log file should append new log entries without overwriting previous ones."
   ]
  },
  {
   "cell_type": "code",
   "execution_count": 3,
   "id": "daf97f8e",
   "metadata": {},
   "outputs": [],
   "source": [
    "import logging, os\n",
    "\n",
    "dir_path = os.getcwd()\n",
    "log_file = \"app.log\"\n",
    "\n",
    "full_path = os.path.join(dir_path, log_file)\n",
    "\n",
    "# make directory if it does not exist!\n",
    "os.makedirs(dir_path, exist_ok = True)\n",
    "\n",
    "# make a logger instance\n",
    "logger = logging.getLogger()\n",
    "\n",
    "# set the logging level\n",
    "logger.setLevel(logging.INFO)\n",
    "\n",
    "# File handler for your log event\n",
    "handler = logging.FileHandler(full_path)\n",
    "\n",
    "# set the format how log event should be written in the file\n",
    "handler.setFormatter(logging.Formatter('%(asctime)s:%(levelname)s:%(message)s'))\n",
    "\n",
    "logger.addHandler(handler)\n",
    "\n",
    "def show_message():\n",
    "    logging.info(\"Hello, World\")\n",
    "    \n",
    "show_message()\n",
    "\n",
    "handler.close()"
   ]
  },
  {
   "cell_type": "markdown",
   "id": "a6134083",
   "metadata": {},
   "source": [
    "11. Create a Python program that logs an error message to the console and a file named\n",
    "\"errors.log\" if an exception occurs during the program's execution. The error\n",
    "message should include the exception type and a timestamp."
   ]
  },
  {
   "cell_type": "code",
   "execution_count": 7,
   "id": "e9b7217d",
   "metadata": {},
   "outputs": [
    {
     "name": "stderr",
     "output_type": "stream",
     "text": [
      "2023-07-04 17:39:41,709:ERROR:Exception occured: division by zero\n"
     ]
    }
   ],
   "source": [
    "import logging\n",
    "\n",
    "dir_path = os.getcwd()\n",
    "log_file = \"errors.log\"\n",
    "\n",
    "full_path = os.path.join(dir_path, log_file)\n",
    "\n",
    "# make directory if it does not exist!\n",
    "os.makedirs(dir_path, exist_ok = True)\n",
    "\n",
    "# make a logger instance\n",
    "logger = logging.getLogger()\n",
    "\n",
    "# set the logging level\n",
    "logger.setLevel(logging.ERROR)\n",
    "\n",
    "# File handler for your log event\n",
    "handler = logging.FileHandler(full_path)\n",
    "\n",
    "# set the format how log event should be written in the file\n",
    "handler.setFormatter(logging.Formatter('%(asctime)s:%(levelname)s:%(message)s'))\n",
    "\n",
    "logger.addHandler(handler)\n",
    "\n",
    "# Stream handler for log events to display on the console\n",
    "stream_handler = logging.StreamHandler()\n",
    "stream_handler.setFormatter(logging.Formatter('%(asctime)s:%(levelname)s:%(message)s'))\n",
    "logger.addHandler(stream_handler)\n",
    "\n",
    "def divide(n, d):\n",
    "    try:\n",
    "        result = n/d\n",
    "        return result\n",
    "    except ZeroDivisionError as e:\n",
    "        logging.error(f'Exception occured: {e}')\n",
    "        \n",
    "divide(10,0)\n",
    "\n",
    "handler.close()\n",
    "stream_handler.close()"
   ]
  }
 ],
 "metadata": {
  "kernelspec": {
   "display_name": "Python 3 (ipykernel)",
   "language": "python",
   "name": "python3"
  },
  "language_info": {
   "codemirror_mode": {
    "name": "ipython",
    "version": 3
   },
   "file_extension": ".py",
   "mimetype": "text/x-python",
   "name": "python",
   "nbconvert_exporter": "python",
   "pygments_lexer": "ipython3",
   "version": "3.10.5"
  }
 },
 "nbformat": 4,
 "nbformat_minor": 5
}
