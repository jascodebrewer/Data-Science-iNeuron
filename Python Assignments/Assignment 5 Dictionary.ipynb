{
 "cells": [
  {
   "cell_type": "markdown",
   "id": "7d41e64f",
   "metadata": {},
   "source": [
    "1. What does an empty dictionary's code look like?\n",
    "\n",
    "The empty dictionary's code: {}\n"
   ]
  },
  {
   "cell_type": "markdown",
   "id": "373672bc",
   "metadata": {},
   "source": [
    "2. What is the value of a dictionary value with the key 'foo' and the value 42?\n",
    "\n",
    "The value is 42."
   ]
  },
  {
   "cell_type": "markdown",
   "id": "2b41ad61",
   "metadata": {},
   "source": [
    "3. What is the most significant distinction between a dictionary and a list?\n",
    "\n",
    "The most significant distinction between a dictionary and a list is their structure and the way they store and access data.\n",
    "\n",
    "In a dictionary, data is stored in key-value pairs. Each element in a dictionary consists of a key and its corresponding value. In contrast, a list is an ordered collection of elements where each element is identified by its index. "
   ]
  },
  {
   "cell_type": "markdown",
   "id": "fe359449",
   "metadata": {},
   "source": [
    "4. What happens if you try to access spam['foo'] if spam is {'bar': 100}?\n",
    "\n",
    "Trying to access spam['foo'] when spam is {'bar': 100}, it will raise a KeyError because the key 'foo' does not exist in the dictionary spam."
   ]
  },
  {
   "cell_type": "code",
   "execution_count": 1,
   "id": "709a8242",
   "metadata": {},
   "outputs": [],
   "source": [
    "spam = {'bar': 100}"
   ]
  },
  {
   "cell_type": "code",
   "execution_count": 2,
   "id": "d3c31993",
   "metadata": {},
   "outputs": [
    {
     "ename": "KeyError",
     "evalue": "'foo'",
     "output_type": "error",
     "traceback": [
      "\u001b[1;31m---------------------------------------------------------------------------\u001b[0m",
      "\u001b[1;31mKeyError\u001b[0m                                  Traceback (most recent call last)",
      "Cell \u001b[1;32mIn[2], line 1\u001b[0m\n\u001b[1;32m----> 1\u001b[0m \u001b[43mspam\u001b[49m\u001b[43m[\u001b[49m\u001b[38;5;124;43m'\u001b[39;49m\u001b[38;5;124;43mfoo\u001b[39;49m\u001b[38;5;124;43m'\u001b[39;49m\u001b[43m]\u001b[49m\n",
      "\u001b[1;31mKeyError\u001b[0m: 'foo'"
     ]
    }
   ],
   "source": [
    "spam['foo']"
   ]
  },
  {
   "cell_type": "markdown",
   "id": "7e35412d",
   "metadata": {},
   "source": [
    "5. If a dictionary is stored in spam, what is the difference between the expressions 'cat' in spam and 'cat' in spam.keys()?\n",
    "\n",
    "- 'cat' in spam checks for the presence of the key 'cat' in the dictionary spam.\n",
    "- The expression 'cat' in spam.keys() is essentially the same as the previous expression. It checks if the key 'cat' exists in the list of keys of the dictionary spam\n",
    "\n",
    "Both the expressions are used to check the presence of a key in a dictionary. They yield the same result and are equivalent."
   ]
  },
  {
   "cell_type": "markdown",
   "id": "1623ace0",
   "metadata": {},
   "source": [
    "6. If a dictionary is stored in spam, what is the difference between the expressions 'cat' in spam and 'cat' in spam.values()?\n",
    "\n",
    "- 'cat' in spam checks for the presence of the key 'cat' in the dictionary spam.\n",
    "- 'cat' in spam.values() checks for the presence of the value 'cat' in any of the values of the dictionary spam."
   ]
  },
  {
   "cell_type": "markdown",
   "id": "d4af8d5e",
   "metadata": {},
   "source": [
    "7. What is a shortcut for the following code?\n",
    "if 'color' not in spam:\n",
    "spam['color'] = 'black'\n",
    "\n",
    "A shortcut for the given code is to use the setdefault() method of dictionaries. "
   ]
  },
  {
   "cell_type": "code",
   "execution_count": 3,
   "id": "007825d7",
   "metadata": {},
   "outputs": [
    {
     "data": {
      "text/plain": [
       "'black'"
      ]
     },
     "execution_count": 3,
     "metadata": {},
     "output_type": "execute_result"
    }
   ],
   "source": [
    "spam.setdefault('color', 'black')"
   ]
  },
  {
   "cell_type": "markdown",
   "id": "722672d5",
   "metadata": {},
   "source": [
    "8. How do you \"pretty print\" dictionary values using which module and function?\n",
    "\n",
    "To \"pretty print\" dictionary values in Python, we can use the pprint module and its pprint() function."
   ]
  },
  {
   "cell_type": "code",
   "execution_count": 13,
   "id": "362e67cb",
   "metadata": {},
   "outputs": [
    {
     "name": "stdout",
     "output_type": "stream",
     "text": [
      "{'age': 30, 'city': 'Scranton', 'name': 'Jim'}\n"
     ]
    }
   ],
   "source": [
    "import pprint\n",
    "\n",
    "my_dict = {'name': 'Jim', 'age': 30, 'city': 'Scranton'}\n",
    "pprint.pprint(my_dict)"
   ]
  },
  {
   "cell_type": "code",
   "execution_count": 14,
   "id": "5dee1f76",
   "metadata": {},
   "outputs": [
    {
     "name": "stdout",
     "output_type": "stream",
     "text": [
      "{   'name': 'Jim',\n",
      "    'age': 30,\n",
      "    'city': 'Scranton'}\n"
     ]
    }
   ],
   "source": [
    "# using the pprint.PrettyPrinter() class to specify options such as output width, \n",
    "# indentation level, and whether or not to sort the keys.\n",
    "pprint.PrettyPrinter(width=20, indent=4, sort_dicts=False).pprint(my_dict)"
   ]
  }
 ],
 "metadata": {
  "kernelspec": {
   "display_name": "Python 3 (ipykernel)",
   "language": "python",
   "name": "python3"
  },
  "language_info": {
   "codemirror_mode": {
    "name": "ipython",
    "version": 3
   },
   "file_extension": ".py",
   "mimetype": "text/x-python",
   "name": "python",
   "nbconvert_exporter": "python",
   "pygments_lexer": "ipython3",
   "version": "3.10.5"
  }
 },
 "nbformat": 4,
 "nbformat_minor": 5
}
