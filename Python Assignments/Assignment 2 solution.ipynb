{
 "cells": [
  {
   "cell_type": "markdown",
   "id": "0ac13517",
   "metadata": {},
   "source": [
    "1.What are the two values of the Boolean data type? How do you write them?\n",
    "\n",
    "Two values of the Boolean data type are 'True' and 'False'. We write them as True and False with capitalized first letter. "
   ]
  },
  {
   "cell_type": "markdown",
   "id": "79647364",
   "metadata": {},
   "source": [
    "2. What are the three different types of Boolean operators?\n",
    "\n",
    "The three different types of Boolean Operators are 'and', 'or', and 'not'."
   ]
  },
  {
   "cell_type": "markdown",
   "id": "22502f5b",
   "metadata": {},
   "source": [
    "3. Make a list of each Boolean operator's truth tables (i.e. every possible combination of Boolean values for the operator and what it evaluate).\n",
    "\n",
    "AND Operator Truth Table:\n",
    "\n",
    "| A        |B         | A and B  |\n",
    "|----------|----------|----------|\n",
    "| True     | True     | True     |\n",
    "| True     | False    | False    |\n",
    "| False    | True     | False    |\n",
    "| False    | False    | False    |  \n",
    "\n",
    "OR Operator Truth Table:\n",
    "\n",
    "| A        |B         | A or B   |\n",
    "|----------|----------|----------|\n",
    "| True     | True     | True     |\n",
    "| True     | False    | True     |\n",
    "| False    | True     | True     |\n",
    "| False    | False    | False    |\n",
    "\n",
    "NOT Operator Truth Table:\n",
    "\n",
    "| A        |NOT A     | \n",
    "|----------|----------|\n",
    "| True     | False    |\n",
    "| False    | True     |\n"
   ]
  },
  {
   "cell_type": "markdown",
   "id": "a5c06957",
   "metadata": {},
   "source": [
    "4. What are the values of the following expressions?\n",
    "\n",
    "(5 > 4) and (3 == 5)\t-->\t\tFalse  \n",
    "not (5 > 4)\t\t\t-->  \tFalse  \n",
    "(5 > 4) or (3 == 5)\t\t--> \tTrue  \n",
    "not ((5 > 4) or (3 == 5))   --> \t\tFalse  \n",
    "(True and True) and (True == False)  --> \tFalse  \n",
    "(not False) or (not True) \t--> \tTrue"
   ]
  },
  {
   "cell_type": "markdown",
   "id": "65020392",
   "metadata": {},
   "source": [
    "5. What are the six comparison operators?\n",
    "\n",
    "The six comparison operators are:  \n",
    "- Greater than (>)\n",
    "- Less than (<)\n",
    "- Greater than or equal to (>=)\n",
    "- Less than or equal to (<=)\n",
    "- Equal to (==)\n",
    "- Not equal to (!=)"
   ]
  },
  {
   "cell_type": "markdown",
   "id": "593d0c73",
   "metadata": {},
   "source": [
    "6. How do you tell the difference between the equal to and assignment operators? Describe a condition and when you would use one.\n",
    "\n",
    "Equal to operator: ==  \n",
    "Assignment operator: =\n",
    "\n",
    "The equal to operator (==) is used to compare two values or variables and determine if they are equal. For example, 5 == 4 would evaluate to False, indicating that 5 is not equal to 4.\n",
    "\n",
    "On the other hand, the assignment operator (=) is used to assign a value to a variable. For example, a = 5 assigns the value 5 to the variable a."
   ]
  },
  {
   "cell_type": "markdown",
   "id": "5ef07a78",
   "metadata": {},
   "source": [
    "7. Identify the three blocks in this code:\n",
    "spam = 0\n",
    "if spam == 10:\n",
    "print('eggs')\n",
    "if spam > 5:\n",
    "print('bacon')\n",
    "else:\n",
    "print('ham')\n",
    "print('spam')\n",
    "print('spam')"
   ]
  },
  {
   "cell_type": "code",
   "execution_count": null,
   "id": "0022ab55",
   "metadata": {},
   "outputs": [],
   "source": [
    "spam = 0\n",
    "if spam == 10:\n",
    "    print('eggs')  # Block 1 (if statement block)\n",
    "if spam > 5:\n",
    "    print('bacon')  # Block 2 (if statement block)\n",
    "else:\n",
    "    print('ham')  # Block 3 (else statement block)\n",
    "print('spam')\n",
    "print('spam')"
   ]
  },
  {
   "cell_type": "markdown",
   "id": "f5a53a3f",
   "metadata": {},
   "source": [
    "8. Write code that prints Hello if 1 is stored in spam, prints Howdy if 2 is stored in spam, and prints Greetings! if anything else is stored in spam.\n",
    "\n",
    "The code is as below:"
   ]
  },
  {
   "cell_type": "code",
   "execution_count": 5,
   "id": "e8db88f0",
   "metadata": {},
   "outputs": [
    {
     "name": "stdout",
     "output_type": "stream",
     "text": [
      "Greetings\n"
     ]
    }
   ],
   "source": [
    "spam = 0\n",
    "if spam == 1:\n",
    "    print('Hello')\n",
    "elif spam == 2:\n",
    "    print('Howdy')\n",
    "else:\n",
    "    print('Greetings')"
   ]
  },
  {
   "cell_type": "markdown",
   "id": "8346a925",
   "metadata": {},
   "source": [
    "9.If your programme is stuck in an endless loop, what keys you’ll press?\n",
    "\n",
    "If your program is stuck in an endless loop and you want to interrupt its execution, you can press the \"Ctrl\" and \"C\" keys simultaneously on your keyboard. "
   ]
  },
  {
   "cell_type": "markdown",
   "id": "92d951b4",
   "metadata": {},
   "source": [
    "10. How can you tell the difference between break and continue?\n",
    "\n",
    "When break is encountered inside a loop, the loop is immediately terminated, and the program execution continues with the next statement after the loop.\n",
    "\n",
    "When continue is encountered inside a loop, the current iteration of the loop is immediately stopped, and the program execution jumps to the next iteration. It skips the remaining code in the loop for the current iteration and continues with the next iteration."
   ]
  },
  {
   "cell_type": "markdown",
   "id": "ab1a386e",
   "metadata": {},
   "source": [
    "11. In a for loop, what is the difference between range(10), range(0, 10), and range(0, 10, 1)?\n",
    "\n",
    "range(10): It generates a sequence of numbers from 0 to 9 (10 numbers in total).  \n",
    "range(0,10): It explicitly specifies starting point i.e. 0 and ending point 9.  \n",
    "range(0, 10, 1): It explicitly specifies starting point i.e. 0 and ending point 9 with step difference of 1.\n",
    "\n",
    "In other words, all the above three range expressions would output the same result i.e. 0 to 9 with step difference of 1."
   ]
  },
  {
   "cell_type": "markdown",
   "id": "3d264a67",
   "metadata": {},
   "source": [
    "12. Write a short program that prints the numbers 1 to 10 using a for loop. Then write an equivalent program that prints the numbers 1 to 10 using a while loop.\n",
    "\n",
    "The solution is as below:"
   ]
  },
  {
   "cell_type": "code",
   "execution_count": 6,
   "id": "a7f72173",
   "metadata": {},
   "outputs": [
    {
     "name": "stdout",
     "output_type": "stream",
     "text": [
      "1\n",
      "2\n",
      "3\n",
      "4\n",
      "5\n",
      "6\n",
      "7\n",
      "8\n",
      "9\n",
      "10\n"
     ]
    }
   ],
   "source": [
    "# using for loop\n",
    "\n",
    "for i in range(1, 11, 1):\n",
    "    print(i)"
   ]
  },
  {
   "cell_type": "code",
   "execution_count": 3,
   "id": "f7925cf2",
   "metadata": {},
   "outputs": [
    {
     "name": "stdout",
     "output_type": "stream",
     "text": [
      "1\n",
      "2\n",
      "3\n",
      "4\n",
      "5\n",
      "6\n",
      "7\n",
      "8\n",
      "9\n",
      "10\n"
     ]
    }
   ],
   "source": [
    "# using while loop\n",
    "i = 1\n",
    "while i<11:\n",
    "    print(i)\n",
    "    i+=1"
   ]
  },
  {
   "cell_type": "markdown",
   "id": "fb4c670c",
   "metadata": {},
   "source": [
    "13. If you had a function named bacon() inside a module named spam, how would you call it after importing spam?\n",
    "\n",
    "The code is as below:\n",
    "\n",
    "from spam import bacon\n",
    "bacon()"
   ]
  }
 ],
 "metadata": {
  "kernelspec": {
   "display_name": "Python 3 (ipykernel)",
   "language": "python",
   "name": "python3"
  },
  "language_info": {
   "codemirror_mode": {
    "name": "ipython",
    "version": 3
   },
   "file_extension": ".py",
   "mimetype": "text/x-python",
   "name": "python",
   "nbconvert_exporter": "python",
   "pygments_lexer": "ipython3",
   "version": "3.10.5"
  }
 },
 "nbformat": 4,
 "nbformat_minor": 5
}
