{
 "cells": [
  {
   "cell_type": "markdown",
   "id": "828cd038",
   "metadata": {},
   "source": [
    "1. What exactly is []? \n",
    "\n",
    "[] represents an empty list. A list is a built-in data structure in Python. "
   ]
  },
  {
   "cell_type": "markdown",
   "id": "41fff574",
   "metadata": {},
   "source": [
    "2. In a list of values stored in a variable called spam, how would you assign the value 'hello' as the third value? (Assume [2, 4, 6, 8, 10] are in spam.) \n",
    "\n",
    ">> spam = [2, 4, 6, 8, 10]  \n",
    ">> spam[2] = 'hello'  \n",
    ">> output: [2, 4, 'hello', 8, 10]\n"
   ]
  },
  {
   "cell_type": "markdown",
   "id": "7ac269d7",
   "metadata": {},
   "source": [
    "Let's pretend the spam includes the list ['a', 'b', 'c', 'd'] for the next three queries"
   ]
  },
  {
   "cell_type": "markdown",
   "id": "82f1cd9b",
   "metadata": {},
   "source": [
    "3. What is the value of spam[int(int('3' * 2) / 11)]?\n",
    "\n",
    "'d'"
   ]
  },
  {
   "cell_type": "markdown",
   "id": "29df33ac",
   "metadata": {},
   "source": [
    "4. What is the value of spam[-1]?\n",
    "\n",
    "‘d’"
   ]
  },
  {
   "cell_type": "markdown",
   "id": "68138a2a",
   "metadata": {},
   "source": [
    "5. What is the value of spam[:2]?\n",
    "\n",
    "[‘a’, ‘b’]"
   ]
  },
  {
   "cell_type": "markdown",
   "id": "9508eb09",
   "metadata": {},
   "source": [
    "Let's pretend bacon has the list [3.14, 'cat', 11, 'cat', True] for the next three questions."
   ]
  },
  {
   "cell_type": "markdown",
   "id": "33fdd517",
   "metadata": {},
   "source": [
    "6. What is the value of bacon.index('cat')?\n",
    "\n",
    "The value of bacon.index('cat') is 1."
   ]
  },
  {
   "cell_type": "markdown",
   "id": "738e679c",
   "metadata": {},
   "source": [
    "7. How does bacon.append(99) change the look of the list value in bacon?\n",
    "\n",
    "[3.14, 'cat', 11, 'cat', True, 99]"
   ]
  },
  {
   "cell_type": "markdown",
   "id": "fd25017b",
   "metadata": {},
   "source": [
    "8. How does bacon.remove('cat') change the look of the list in bacon?\n",
    "\n",
    "[3.14, 11, 'cat', True, 99] i.e. it removes the first occurance of 'cat'."
   ]
  },
  {
   "cell_type": "markdown",
   "id": "f215b902",
   "metadata": {},
   "source": [
    "9. What are the list concatenation and list replication operators?\n",
    "\n",
    "List concatenation operator is '+'and list replication operator is: *. List concatenation is used to combine two or more lists into a single list whereas list replication is used to create a new list by replicating an existing list multiple times."
   ]
  },
  {
   "cell_type": "markdown",
   "id": "95cca8d3",
   "metadata": {},
   "source": [
    "10. What is difference between the list methods append() and insert()?\n",
    "\n",
    "The append() method is used to add an element at the end of a list. It does not require specifying an index. Whereas, the insert() method is used to add an element at a specific position within the list. It requires specifying the index where the element should be inserted. All the elements from that index onwards are shifted one position to the right to accommodate the new element."
   ]
  },
  {
   "cell_type": "markdown",
   "id": "298459ec",
   "metadata": {},
   "source": [
    "11. What are the two methods for removing items from a list?\n",
    "\n",
    "The two methods are remove(), pop()"
   ]
  },
  {
   "cell_type": "markdown",
   "id": "feff86f4",
   "metadata": {},
   "source": [
    "12. Describe how list values and string values are identical.\n",
    "\n",
    "- Both lists and strings support indexing and slicing operations.\n",
    "- Both lists and strings can be iterated using loops like 'for' or 'while'.\n",
    "- Lists and strings have some common methods, such as len(), which returns the length of the sequence, and count(), which counts the occurrences of a specific element or character.\n",
    "- Both lists and strings support concatenation, which allows to combine two or more sequences together using the + operator."
   ]
  },
  {
   "cell_type": "markdown",
   "id": "df70f621",
   "metadata": {},
   "source": [
    "13. What's the difference between tuples and lists?\n",
    "\n",
    "Lists are mutable (i.e., can be modified) whereas tuples are immutable (i.e., can’t be modified)."
   ]
  },
  {
   "cell_type": "markdown",
   "id": "13e4b06e",
   "metadata": {},
   "source": [
    "14. How do you type a tuple value that only contains the integer 42?\n",
    "\n",
    "t = (42,)  \n",
    "type(t)  \n",
    "\n",
    "Output: tuple\n"
   ]
  },
  {
   "cell_type": "markdown",
   "id": "9aa7748c",
   "metadata": {},
   "source": [
    "15. How do you get a list value's tuple form? How do you get a tuple value's list form?\n",
    "\n",
    "- To convert a list to a tuple, you can use the tuple() function and pass your list as an argument. It will return a tuple that contains the same elements as the original list.\n",
    "- To convert a tuple to a list, you can use the list() function and pass your tuple as an argument. It will return a list that contains the same elements as the original tuple."
   ]
  },
  {
   "cell_type": "markdown",
   "id": "9dd50aab",
   "metadata": {},
   "source": [
    "16. Variables that \"contain\" list values are not necessarily lists themselves. Instead, what do they contain?\n",
    "\n",
    "Variables that \"contain\" list values in Python actually contain references to lists rather than the lists themselves. In Python, variables are used to store references or pointers to objects in memory."
   ]
  },
  {
   "cell_type": "markdown",
   "id": "d4280a94",
   "metadata": {},
   "source": [
    "17. How do you distinguish between copy.copy() and copy.deepcopy()?\n",
    "\n",
    "copy.copy() creates a shallow copy that shares references to nested objects, while copy.deepcopy() creates a deep copy that creates independent copies of nested objects. "
   ]
  }
 ],
 "metadata": {
  "kernelspec": {
   "display_name": "Python 3 (ipykernel)",
   "language": "python",
   "name": "python3"
  },
  "language_info": {
   "codemirror_mode": {
    "name": "ipython",
    "version": 3
   },
   "file_extension": ".py",
   "mimetype": "text/x-python",
   "name": "python",
   "nbconvert_exporter": "python",
   "pygments_lexer": "ipython3",
   "version": "3.10.5"
  }
 },
 "nbformat": 4,
 "nbformat_minor": 5
}
