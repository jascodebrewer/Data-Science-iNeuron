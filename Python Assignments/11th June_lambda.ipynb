{
 "cells": [
  {
   "cell_type": "markdown",
   "id": "c79cfcf9",
   "metadata": {},
   "source": [
    "1. What is a lambda function in Python, and how does it differ from a regular function?\n",
    "\n",
    "A lambda function, is a small, one-line function in Python that doesn't require a def statement. It is defined using the lambda keyword followed by a list of arguments, a colon (:), and an expression that represents the function's return value.\n",
    "\n",
    "SYNTAX:\n",
    ">> lambda arguments: expression\n",
    "\n",
    "Lambda functions are typically used for simple tasks and are often used in situations where a small function is needed for a short period of time and doesn't require a formal function definition. \n",
    "\n",
    "The main difference between a lambda function and a regular function defined using the def statement is that a lambda function is a one-liner without a name. The regular functions are defined using def and can have multiple lines of code and are given a name that can be used to call the function."
   ]
  },
  {
   "cell_type": "markdown",
   "id": "d66e503c",
   "metadata": {},
   "source": [
    "2. Can a lambda function in Python have multiple arguments? If yes, how can you define and use them?\n",
    "\n",
    "Yes, a lambda function in Python can have multiple arguments. To define multiple arguments in a lambda function, you simply separate them with commas.  You can define the arguments separated by comma as shown below:"
   ]
  },
  {
   "cell_type": "code",
   "execution_count": 1,
   "id": "4a9e46ea",
   "metadata": {},
   "outputs": [
    {
     "name": "stdout",
     "output_type": "stream",
     "text": [
      "20\n"
     ]
    }
   ],
   "source": [
    "# this lambda functions finds maximum of the two variables\n",
    "max_num = lambda x, y: x if x > y else y\n",
    "print(max_num(20, 10))"
   ]
  },
  {
   "cell_type": "markdown",
   "id": "b0c1044f",
   "metadata": {},
   "source": [
    "3. How are lambda functions typically used in Python? Provide an example use case.\n",
    "\n",
    "Lambda functions in Python are typically used for creating small, anonymous functions that can be defined on the fly without a formal function declaration. They are commonly used in situations where a simple, one-line function is needed. \n",
    "\n",
    "Here's an example that uses a lambda function to sort products based on their price:"
   ]
  },
  {
   "cell_type": "code",
   "execution_count": 2,
   "id": "ef0cc6cb",
   "metadata": {},
   "outputs": [
    {
     "data": {
      "text/plain": [
       "[{'name': 'Phone', 'price': 9000},\n",
       " {'name': 'TV', 'price': 50000},\n",
       " {'name': 'Laptop', 'price': 90000},\n",
       " {'name': 'AC', 'price': 100000}]"
      ]
     },
     "execution_count": 2,
     "metadata": {},
     "output_type": "execute_result"
    }
   ],
   "source": [
    "# products is a list containing name and price as dictionaries' keys\n",
    "products = [{'name':'Phone', 'price':9000},\n",
    "           {'name':'Laptop', 'price':90000},\n",
    "            {'name':'TV', 'price':50000},\n",
    "            {'name':'AC', 'price':100000},\n",
    "           ]\n",
    "# sorts the products based on key \"price\" in ascending order\n",
    "sorted_products_asc  = sorted(products, key = lambda x : x['price'])\n",
    "sorted_products_asc"
   ]
  },
  {
   "cell_type": "markdown",
   "id": "52ea3187",
   "metadata": {},
   "source": [
    "4. What are the advantages and limitations of lambda functions compared to regular functions in Python?\n",
    "\n",
    "Advantages: \n",
    "- Concise Syntax: Lambda functions allow you to write short, compact code by defining the function inline without the need for a formal function declaration.\n",
    "\n",
    "- Convenience: Lambda functions are convenient when you need to define and use a function in a single line without the need to create a named function separately. This can be particularly useful in situations where you require a small, temporary function.\n",
    "\n",
    "- Higher-Order Functions: Lambda functions are commonly used as arguments in higher-order functions, such as map(), filter(), and reduce(), which operate on sequences and collections. They allow for a more functional programming style and enable you to express operations concisely.\n",
    "\n",
    "Limitations of Lambda Functions:\n",
    "\n",
    "- Limited Functionality: Lambda functions are best suited for simple and straightforward tasks. They are not well-suited for complex operations that involve multiple statements, control flow, or extensive error handling. In such cases, it is better to use regular functions for better readability and maintainability.\n",
    "\n",
    "- Lack of Named Functions: Lambda functions are anonymous and do not have a name. This can make it difficult to reuse or refer to the function in other parts of the code. Regular functions, on the other hand, can be defined with a name and reused at multiple places, improving code modularity.\n",
    "\n",
    "- Readability Concerns: While lambda functions can lead to more concise code, they can also make the code harder to read and understand, especially when used for complex tasks. The lack of a descriptive name and the inline nature of lambda functions may reduce code readability, making it harder for other developers (including yourself) to understand the code in the future."
   ]
  },
  {
   "cell_type": "markdown",
   "id": "b1cea905",
   "metadata": {},
   "source": [
    "5. Are lambda functions in Python able to access variables defined outside of their own scope?\n",
    "Explain with an example.\n",
    "\n",
    "Yes, lambda functions in Python are able to access the variables defined outside of their own scope as shown in the example below:"
   ]
  },
  {
   "cell_type": "code",
   "execution_count": 3,
   "id": "a9aeca30",
   "metadata": {},
   "outputs": [
    {
     "name": "stdout",
     "output_type": "stream",
     "text": [
      "Enter a number: 10\n",
      "Enter second number: 60\n",
      "60\n"
     ]
    }
   ],
   "source": [
    "# takes the input from the user and stores it at x and y\n",
    "x = int(input(\"Enter a number: \"))\n",
    "y = int(input(\"Enter second number: \"))\n",
    "\n",
    "# this lambda functions finds maximum of the two variables\n",
    "max_num = lambda x, y: x if x > y else y\n",
    "print(max_num(x, y))"
   ]
  },
  {
   "cell_type": "markdown",
   "id": "fdc4e539",
   "metadata": {},
   "source": [
    "6. Write a lambda function to calculate the square of a given number."
   ]
  },
  {
   "cell_type": "code",
   "execution_count": 4,
   "id": "f2152c4c",
   "metadata": {},
   "outputs": [
    {
     "name": "stdout",
     "output_type": "stream",
     "text": [
      "25\n"
     ]
    }
   ],
   "source": [
    "num_square = lambda x : x**2\n",
    "print(num_square(5))"
   ]
  },
  {
   "cell_type": "markdown",
   "id": "987dad40",
   "metadata": {},
   "source": [
    "7. Create a lambda function to find the maximum value in a list of integers."
   ]
  },
  {
   "cell_type": "code",
   "execution_count": 5,
   "id": "3c0cdfd7",
   "metadata": {},
   "outputs": [
    {
     "data": {
      "text/plain": [
       "9"
      ]
     },
     "execution_count": 5,
     "metadata": {},
     "output_type": "execute_result"
    }
   ],
   "source": [
    "my_list = [1,2,3,4,5,9]\n",
    "max_value = lambda any_list : max(sorted(any_list, reverse = True))\n",
    "max_value(my_list)"
   ]
  },
  {
   "cell_type": "markdown",
   "id": "7304e458",
   "metadata": {},
   "source": [
    "8. Implement a lambda function to filter out all the even numbers from a list of integers."
   ]
  },
  {
   "cell_type": "code",
   "execution_count": 6,
   "id": "bcf3ab3e",
   "metadata": {},
   "outputs": [
    {
     "data": {
      "text/plain": [
       "[2, 4]"
      ]
     },
     "execution_count": 6,
     "metadata": {},
     "output_type": "execute_result"
    }
   ],
   "source": [
    "even_list = lambda any_list: [i for i in any_list if i % 2 == 0]\n",
    "even_list(my_list)"
   ]
  },
  {
   "cell_type": "markdown",
   "id": "7810b7f9",
   "metadata": {},
   "source": [
    "9. Write a lambda function to sort a list of strings in ascending order based on the length of each\n",
    "string."
   ]
  },
  {
   "cell_type": "code",
   "execution_count": 7,
   "id": "2c35b0a4",
   "metadata": {},
   "outputs": [
    {
     "data": {
      "text/plain": [
       "['I', 'am', 'Hello', 'Michael Scott']"
      ]
     },
     "execution_count": 7,
     "metadata": {},
     "output_type": "execute_result"
    }
   ],
   "source": [
    "s_list = ['Hello', 'I', 'am', 'Michael Scott']\n",
    "sorted_list = sorted(s_list, key = lambda x: [len(i) for i in x])\n",
    "sorted_list"
   ]
  },
  {
   "cell_type": "markdown",
   "id": "8b1e1bd0",
   "metadata": {},
   "source": [
    "10. Create a lambda function that takes two lists as input and returns a new list containing the common elements between the two lists."
   ]
  },
  {
   "cell_type": "code",
   "execution_count": 8,
   "id": "7ac723a1",
   "metadata": {},
   "outputs": [
    {
     "name": "stdout",
     "output_type": "stream",
     "text": [
      "[1, 3, 5]\n"
     ]
    }
   ],
   "source": [
    "x = [1,2,3,4,5]\n",
    "y = [3,1,6,7,5]\n",
    "new_list = lambda x, y: [i for i in x if i in y]\n",
    "print(new_list(x, y))"
   ]
  },
  {
   "cell_type": "markdown",
   "id": "d2cf0eb5",
   "metadata": {},
   "source": [
    "11. Write a recursive function to calculate the factorial of a given positive integer."
   ]
  },
  {
   "cell_type": "code",
   "execution_count": 14,
   "id": "c17f394e",
   "metadata": {},
   "outputs": [
    {
     "name": "stdout",
     "output_type": "stream",
     "text": [
      "720\n"
     ]
    }
   ],
   "source": [
    "def factorial(num):\n",
    "    if num == 1:\n",
    "        return num\n",
    "    else:\n",
    "        return num * factorial(num-1)\n",
    "\n",
    "num = 6\n",
    "fact = factorial(num)\n",
    "print(fact)"
   ]
  },
  {
   "cell_type": "markdown",
   "id": "c0d410bd",
   "metadata": {},
   "source": [
    "12. Implement a recursive function to compute the nth Fibonacci number."
   ]
  },
  {
   "cell_type": "code",
   "execution_count": 10,
   "id": "d4753f2d",
   "metadata": {},
   "outputs": [
    {
     "name": "stdout",
     "output_type": "stream",
     "text": [
      "8\n"
     ]
    }
   ],
   "source": [
    "def fibo(n):\n",
    "    if n == 0:\n",
    "        return 0\n",
    "    if n == 1:\n",
    "        return 1\n",
    "    else:\n",
    "        return fibo(n-1) + fibo(n-2)\n",
    "    \n",
    "print(fibo(6))"
   ]
  },
  {
   "cell_type": "markdown",
   "id": "2d299c0d",
   "metadata": {},
   "source": [
    "13. Create a recursive function to find the sum of all the elements in a given list."
   ]
  },
  {
   "cell_type": "code",
   "execution_count": 11,
   "id": "16be08ea",
   "metadata": {},
   "outputs": [
    {
     "name": "stdout",
     "output_type": "stream",
     "text": [
      "10\n"
     ]
    }
   ],
   "source": [
    "def sum_list(my_list):\n",
    "    if len(my_list) == 0: # stop recursion when the list is empty\n",
    "        return 0\n",
    "    else:\n",
    "        return my_list.pop() + sum_list(my_list)  # Recursive call to calculate the sum\n",
    "\n",
    "my_list = [1, 2, 3, 4]\n",
    "print(sum_list(my_list))"
   ]
  },
  {
   "cell_type": "markdown",
   "id": "987db62b",
   "metadata": {},
   "source": [
    "14. Write a recursive function to determine whether a given string is a palindrome."
   ]
  },
  {
   "cell_type": "code",
   "execution_count": 12,
   "id": "d3f0e195",
   "metadata": {},
   "outputs": [
    {
     "name": "stdout",
     "output_type": "stream",
     "text": [
      "It is a palindrome\n"
     ]
    }
   ],
   "source": [
    "def palindrome(my_str):\n",
    "    if len(my_str) <= 1:  # Base case: empty string or single character is a palindrome\n",
    "        return my_str\n",
    "    else:\n",
    "        my_str2 = my_str[-1] + palindrome(my_str[:-1])      \n",
    "        return my_str2\n",
    "\n",
    "my_str = 'level'\n",
    "if palindrome(my_str) == my_str:\n",
    "    print(\"It is a palindrome\")\n",
    "else:\n",
    "    print(\"It is not a palindrome\")\n"
   ]
  },
  {
   "cell_type": "markdown",
   "id": "fbb860df",
   "metadata": {},
   "source": [
    "15. Implement a recursive function to find the greatest common divisor (GCD) of two positive integers."
   ]
  },
  {
   "cell_type": "code",
   "execution_count": 13,
   "id": "e4632470",
   "metadata": {},
   "outputs": [
    {
     "name": "stdout",
     "output_type": "stream",
     "text": [
      "GCD of 100 and 12 is: 4\n"
     ]
    }
   ],
   "source": [
    "def gcd_recursive(a, b):\n",
    "    if a < b:\n",
    "        a, b = b, a  # Swap the values if a is smaller than b\n",
    "    \n",
    "    if b == 0:\n",
    "        return a\n",
    "    else:\n",
    "        return gcd_recursive(b, a % b)\n",
    "\n",
    "# Example usage\n",
    "num1 = 100\n",
    "num2 = 12\n",
    "gcd = gcd_recursive(num1, num2)\n",
    "print(\"GCD of\", num1, \"and\", num2, \"is:\", gcd)"
   ]
  }
 ],
 "metadata": {
  "kernelspec": {
   "display_name": "Python 3 (ipykernel)",
   "language": "python",
   "name": "python3"
  },
  "language_info": {
   "codemirror_mode": {
    "name": "ipython",
    "version": 3
   },
   "file_extension": ".py",
   "mimetype": "text/x-python",
   "name": "python",
   "nbconvert_exporter": "python",
   "pygments_lexer": "ipython3",
   "version": "3.10.5"
  }
 },
 "nbformat": 4,
 "nbformat_minor": 5
}
