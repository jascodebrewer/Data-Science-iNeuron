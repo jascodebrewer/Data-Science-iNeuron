{
 "cells": [
  {
   "cell_type": "markdown",
   "id": "aa748740",
   "metadata": {},
   "source": [
    "1. In Python, what is the difference between a built-in function and a user-defined function? Provide an\n",
    "example of each.\n",
    "\n",
    "In Python, a built-in function refers to a function that is provided as part of the Python programming language. These functions are readily available for use without requiring any additional code or modules. Examples of built-in functions include print(), len(), and type().\n",
    "\n",
    "On the other hand, a user-defined function is created by the programmer to perform a specific task or set of operations. These functions are defined using the def keyword and can be customized to meet specific requirements."
   ]
  },
  {
   "cell_type": "code",
   "execution_count": 1,
   "id": "7c8bd56d",
   "metadata": {},
   "outputs": [
    {
     "data": {
      "text/plain": [
       "120"
      ]
     },
     "execution_count": 1,
     "metadata": {},
     "output_type": "execute_result"
    }
   ],
   "source": [
    "def factorial(n):\n",
    "    if n == 0:\n",
    "        return 1\n",
    "    else:\n",
    "        return n * factorial(n-1)\n",
    "\n",
    "factorial(5)"
   ]
  },
  {
   "cell_type": "markdown",
   "id": "479d6ce7",
   "metadata": {},
   "source": [
    "2. How can you pass arguments to a function in Python? Explain the difference between positional\n",
    "arguments and keyword arguments.\n",
    "\n",
    "When passing arguments to a function in Python, the arguments are enclosed in parentheses () and separated by commas.\n",
    "\n",
    "The key difference between positional and keyword arguments is the way arguments are matched with function parameters. Positional arguments rely on their order, while keyword arguments rely on their names. Keyword arguments provide more flexibility and clarity when calling functions, especially if there are many arguments or default values."
   ]
  },
  {
   "cell_type": "code",
   "execution_count": 2,
   "id": "577e70df",
   "metadata": {},
   "outputs": [
    {
     "name": "stdout",
     "output_type": "stream",
     "text": [
      "Hello Bob Vance !\n",
      "You are 40 years old.\n"
     ]
    }
   ],
   "source": [
    "# Positional Arguments example:\n",
    "\n",
    "def greet(name, age):\n",
    "    print(\"Hello\", name, \"!\")\n",
    "    print(\"You are\", age, \"years old.\")\n",
    "\n",
    "greet(\"Bob Vance\", 40)"
   ]
  },
  {
   "cell_type": "code",
   "execution_count": 3,
   "id": "961c4248",
   "metadata": {},
   "outputs": [
    {
     "name": "stdout",
     "output_type": "stream",
     "text": [
      "Hello Bob Vance !\n",
      "You are 40 years old.\n"
     ]
    }
   ],
   "source": [
    "# Keyword arguments example:\n",
    "def greet(name, age):\n",
    "    print(\"Hello\", name, \"!\")\n",
    "    print(\"You are\", age, \"years old.\")\n",
    "\n",
    "greet(age=40, name=\"Bob Vance\")"
   ]
  },
  {
   "cell_type": "markdown",
   "id": "8cd3f4d8",
   "metadata": {},
   "source": [
    "3. What is the purpose of the return statement in a function? Can a function have multiple return\n",
    "statements? Explain with an example.\n",
    "\n",
    "The purpose of the return statement in a function is to specify the value that the function should return when it is called. It allows the function to send a result or data back to the caller.\n",
    "\n",
    "Yes, a function can have a multiple return statements as shown in an example below: "
   ]
  },
  {
   "cell_type": "code",
   "execution_count": 4,
   "id": "78df3d98",
   "metadata": {},
   "outputs": [
    {
     "name": "stdout",
     "output_type": "stream",
     "text": [
      "5 is:  Positive\n",
      "-3 is:  Negative\n",
      "0 is:  Zero\n"
     ]
    }
   ],
   "source": [
    "# whenever a condition is met that particular value will be returned \n",
    "def check_number(num):\n",
    "    if num > 0:\n",
    "        return \"Positive\"\n",
    "    elif num < 0:\n",
    "        return \"Negative\"\n",
    "    else:\n",
    "        return \"Zero\"\n",
    "\n",
    "result1 = check_number(5)\n",
    "print(\"5 is: \", result1)  \n",
    "\n",
    "result2 = check_number(-3)\n",
    "print(\"-3 is: \", result2)  \n",
    "\n",
    "result3 = check_number(0)\n",
    "print(\"0 is: \", result3)  \n"
   ]
  },
  {
   "cell_type": "markdown",
   "id": "ea40a4e3",
   "metadata": {},
   "source": [
    "4. What are lambda functions in Python? How are they different from regular functions? Provide an example where a lambda function can be useful.\n",
    "\n",
    "Lambda functions are small, inline functions in Python. They are defined using the lambda keyword without a function name and are typically used for simple, one-line tasks.\n",
    "\n",
    "The main difference between lambda functions and regular functions is that lambda functions can be created and used without assigning them to a variable. They are primarily used when you need a function for a short duration or as an argument to another function.\n",
    "\n",
    "Example:"
   ]
  },
  {
   "cell_type": "code",
   "execution_count": 5,
   "id": "0c8c1513",
   "metadata": {},
   "outputs": [
    {
     "name": "stdout",
     "output_type": "stream",
     "text": [
      "[2, 4, 6, 8, 10]\n"
     ]
    }
   ],
   "source": [
    "# Filtering a list to get even numbers\n",
    "my_list = [1, 2, 3, 4, 5, 6, 7, 8, 9, 10]\n",
    "even_numbers = list(filter(lambda x: x % 2 == 0, my_list))\n",
    "print(even_numbers)"
   ]
  },
  {
   "cell_type": "markdown",
   "id": "8752afad",
   "metadata": {},
   "source": [
    "5. How does the concept of \"scope\" apply to functions in Python? Explain the difference between local\n",
    "scope and global scope.\n",
    "\n",
    "In Python, \"scope\" refers to the visibility and accessibility of variables within different parts of a program. Functions in Python have their own local scope, which means variables defined inside a function are only accessible within that function. Local variables cannot be accessed outside of the function. On the other hand, global scope refers to variables that are defined outside of any function and can be accessed from anywhere in the program. Global variables can be used both inside and outside functions."
   ]
  },
  {
   "cell_type": "markdown",
   "id": "1e8667b6",
   "metadata": {},
   "source": [
    "6. How can you use the \"return\" statement in a Python function to return multiple values?\n",
    "\n",
    "In Python, we can use the \"return\" statement in a function to return multiple values by returning them as a tuple, list, or any other iterable object. Here's an example:"
   ]
  },
  {
   "cell_type": "code",
   "execution_count": 6,
   "id": "f4745df4",
   "metadata": {},
   "outputs": [
    {
     "name": "stdout",
     "output_type": "stream",
     "text": [
      "(10, 'Hello', [1, 2, 3])\n"
     ]
    }
   ],
   "source": [
    "def get_values():\n",
    "    value1 = 10\n",
    "    value2 = \"Hello\"\n",
    "    value3 = [1, 2, 3]\n",
    "    return value1, value2, value3\n",
    "\n",
    "result = get_values()\n",
    "print(result)  # Output: (10, 'Hello', [1, 2, 3])"
   ]
  },
  {
   "cell_type": "markdown",
   "id": "091fa63e",
   "metadata": {},
   "source": [
    "7. What is the difference between the \"pass by value\" and \"pass by reference\" concepts when it\n",
    "comes to function arguments in Python?\n",
    "\n",
    "In Python, function arguments are passed by reference. This means that when a variable is passed as an argument to a function, any changes made to the variable inside the function will affect the original variable outside the function. The reference to the variable is passed, not its value. This is different from \"pass by value\" where a copy of the value is passed to the function, and changes made inside the function do not affect the original variable."
   ]
  },
  {
   "cell_type": "markdown",
   "id": "48f466c1",
   "metadata": {},
   "source": [
    "8. Create a function that can intake integer or decimal value and do following operations:\n",
    "a. Logarithmic function (log x)\n",
    "b. Exponential function (exp(x))\n",
    "c. Power function with base 2 (2x)\n",
    "d. Square root"
   ]
  },
  {
   "cell_type": "code",
   "execution_count": 13,
   "id": "50b4ae33",
   "metadata": {},
   "outputs": [],
   "source": [
    "# Logarithmic function (log x)\n",
    "import math\n",
    "\n",
    "def logarithmic_function(x):\n",
    "    try:\n",
    "        result = math.log(x)\n",
    "        return result\n",
    "    except ValueError:\n",
    "        return \"Error: Invalid input\"\n",
    "    except TypeError:\n",
    "        return \"Error: Invalid Type\""
   ]
  },
  {
   "cell_type": "code",
   "execution_count": 14,
   "id": "0ed46660",
   "metadata": {},
   "outputs": [
    {
     "name": "stdout",
     "output_type": "stream",
     "text": [
      "2.302585092994046\n"
     ]
    }
   ],
   "source": [
    "print(logarithmic_function(10))  "
   ]
  },
  {
   "cell_type": "code",
   "execution_count": 15,
   "id": "837fa34a",
   "metadata": {},
   "outputs": [
    {
     "name": "stdout",
     "output_type": "stream",
     "text": [
      "1.7404661748405046\n"
     ]
    }
   ],
   "source": [
    "print(logarithmic_function(5.7)) "
   ]
  },
  {
   "cell_type": "code",
   "execution_count": 16,
   "id": "2637f629",
   "metadata": {},
   "outputs": [
    {
     "name": "stdout",
     "output_type": "stream",
     "text": [
      "Error: Invalid Type\n"
     ]
    }
   ],
   "source": [
    "print(logarithmic_function('Pot'))"
   ]
  },
  {
   "cell_type": "code",
   "execution_count": 17,
   "id": "d5a280ab",
   "metadata": {},
   "outputs": [
    {
     "name": "stdout",
     "output_type": "stream",
     "text": [
      "Error: Invalid input\n"
     ]
    }
   ],
   "source": [
    "print(logarithmic_function(-1))"
   ]
  },
  {
   "cell_type": "code",
   "execution_count": 18,
   "id": "5969c847",
   "metadata": {},
   "outputs": [],
   "source": [
    "# b. Exponential function (exp(x))\n",
    "import math\n",
    "\n",
    "def exponential_function(x):\n",
    "    try:\n",
    "        result = math.exp(x)\n",
    "        return result\n",
    "    except ValueError:\n",
    "        return \"Error: Invalid input\"\n",
    "    except TypeError:\n",
    "        return \"Error: Invalid Type\""
   ]
  },
  {
   "cell_type": "code",
   "execution_count": 21,
   "id": "cbf026ec",
   "metadata": {},
   "outputs": [
    {
     "data": {
      "text/plain": [
       "22026.465794806718"
      ]
     },
     "execution_count": 21,
     "metadata": {},
     "output_type": "execute_result"
    }
   ],
   "source": [
    "exponential_function(10)"
   ]
  },
  {
   "cell_type": "code",
   "execution_count": 20,
   "id": "123fc2b0",
   "metadata": {},
   "outputs": [
    {
     "data": {
      "text/plain": [
       "'Error: Invalid Type'"
      ]
     },
     "execution_count": 20,
     "metadata": {},
     "output_type": "execute_result"
    }
   ],
   "source": [
    "exponential_function('abc')"
   ]
  },
  {
   "cell_type": "code",
   "execution_count": 28,
   "id": "e0e534e0",
   "metadata": {},
   "outputs": [],
   "source": [
    "# c. Power function with base 2\n",
    "def power_function(x):\n",
    "    try:\n",
    "        result = 2 ** x\n",
    "        return result\n",
    "    except ValueError:\n",
    "        return \"Error: Invalid input\"\n",
    "    except TypeError:\n",
    "        return \"Error: Invalid Type\""
   ]
  },
  {
   "cell_type": "code",
   "execution_count": 29,
   "id": "541249e6",
   "metadata": {},
   "outputs": [
    {
     "data": {
      "text/plain": [
       "16"
      ]
     },
     "execution_count": 29,
     "metadata": {},
     "output_type": "execute_result"
    }
   ],
   "source": [
    "power_function(4)"
   ]
  },
  {
   "cell_type": "code",
   "execution_count": 30,
   "id": "a51d49c3",
   "metadata": {},
   "outputs": [
    {
     "data": {
      "text/plain": [
       "0.0625"
      ]
     },
     "execution_count": 30,
     "metadata": {},
     "output_type": "execute_result"
    }
   ],
   "source": [
    "power_function(-4)"
   ]
  },
  {
   "cell_type": "code",
   "execution_count": 31,
   "id": "61173bb8",
   "metadata": {},
   "outputs": [
    {
     "data": {
      "text/plain": [
       "16.0"
      ]
     },
     "execution_count": 31,
     "metadata": {},
     "output_type": "execute_result"
    }
   ],
   "source": [
    "power_function(4.0)"
   ]
  },
  {
   "cell_type": "code",
   "execution_count": 32,
   "id": "3d9cae87",
   "metadata": {},
   "outputs": [
    {
     "data": {
      "text/plain": [
       "'Error: Invalid Type'"
      ]
     },
     "execution_count": 32,
     "metadata": {},
     "output_type": "execute_result"
    }
   ],
   "source": [
    "power_function('abc')"
   ]
  },
  {
   "cell_type": "code",
   "execution_count": 22,
   "id": "8275087e",
   "metadata": {},
   "outputs": [],
   "source": [
    "# d. Square root\n",
    "import math\n",
    "\n",
    "def squareRoot_function(x):\n",
    "    try:\n",
    "        result = math.sqrt(x)\n",
    "        return result\n",
    "    except ValueError:\n",
    "        return \"Error: Invalid input\"\n",
    "    except TypeError:\n",
    "        return \"Error: Invalid Type\""
   ]
  },
  {
   "cell_type": "code",
   "execution_count": 24,
   "id": "7158c080",
   "metadata": {},
   "outputs": [
    {
     "data": {
      "text/plain": [
       "4.0"
      ]
     },
     "execution_count": 24,
     "metadata": {},
     "output_type": "execute_result"
    }
   ],
   "source": [
    "squareRoot_function(16)"
   ]
  },
  {
   "cell_type": "code",
   "execution_count": 26,
   "id": "608614c0",
   "metadata": {},
   "outputs": [
    {
     "data": {
      "text/plain": [
       "2.2135943621178655"
      ]
     },
     "execution_count": 26,
     "metadata": {},
     "output_type": "execute_result"
    }
   ],
   "source": [
    "squareRoot_function(4.9)"
   ]
  },
  {
   "cell_type": "code",
   "execution_count": 23,
   "id": "45556733",
   "metadata": {},
   "outputs": [
    {
     "data": {
      "text/plain": [
       "'Error: Invalid Type'"
      ]
     },
     "execution_count": 23,
     "metadata": {},
     "output_type": "execute_result"
    }
   ],
   "source": [
    "squareRoot_function('abc')"
   ]
  },
  {
   "cell_type": "code",
   "execution_count": 27,
   "id": "b34f693f",
   "metadata": {},
   "outputs": [
    {
     "data": {
      "text/plain": [
       "'Error: Invalid input'"
      ]
     },
     "execution_count": 27,
     "metadata": {},
     "output_type": "execute_result"
    }
   ],
   "source": [
    "squareRoot_function(-1)"
   ]
  },
  {
   "cell_type": "markdown",
   "id": "4b24f9b3",
   "metadata": {},
   "source": [
    "9. Create a function that takes a full name as an argument and returns first name and last name."
   ]
  },
  {
   "cell_type": "code",
   "execution_count": null,
   "id": "d1199994",
   "metadata": {},
   "outputs": [],
   "source": [
    "# define a function \n",
    "def first_lastname(name):\n",
    "    # Split the full name using the space character as a delimiter\n",
    "    # and assign the first and last names to variables.\n",
    "    first_name = name.split(' ')[0]\n",
    "    last_name = name.split(' ')[1]\n",
    "    \n",
    "    # Return a tuple containing the first name and last name.\n",
    "    return first_name, last_name"
   ]
  },
  {
   "cell_type": "code",
   "execution_count": null,
   "id": "7cf6fb25",
   "metadata": {},
   "outputs": [],
   "source": [
    "# Name you want to split\n",
    "s = 'Bob Vance'\n",
    "# call the function\n",
    "s_name = first_lastname(s)\n",
    "print(f\"The firstname is: {s_name[0]}, and the last name is: {s_name[1]}\")"
   ]
  }
 ],
 "metadata": {
  "kernelspec": {
   "display_name": "Python 3 (ipykernel)",
   "language": "python",
   "name": "python3"
  },
  "language_info": {
   "codemirror_mode": {
    "name": "ipython",
    "version": 3
   },
   "file_extension": ".py",
   "mimetype": "text/x-python",
   "name": "python",
   "nbconvert_exporter": "python",
   "pygments_lexer": "ipython3",
   "version": "3.10.5"
  }
 },
 "nbformat": 4,
 "nbformat_minor": 5
}
