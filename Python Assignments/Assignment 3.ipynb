{
 "cells": [
  {
   "cell_type": "markdown",
   "id": "a6c8e97a",
   "metadata": {},
   "source": [
    "1. Why are functions advantageous to have in your programs?\n",
    "\n",
    "Functions are advantages to have in your programs because:\n",
    "\n",
    "- Modularity and Readability: Function can focus on a specific task, making the code more organized and easier to understand. This modular structure enhances the readability of the code.\n",
    "\n",
    "- Reusability: Functions can be defined once and reused multiple times throughout the program. \n",
    "\n",
    "- Abstraction and Encapsulation: Functions allow encapsulating a set of instructions and abstract away the implementation details. By calling a function, a complex operation can be performed without needing to understand how it is implemented. \n",
    "\n",
    "- Code Organization and Debugging: Functions help in organizing code into logical blocks, making it easier to locate and fix errors or bugs.\n",
    "\n",
    "- Importing: Functions can be imported from other files or modules, allowing for code organization and reusability across multiple parts of a program."
   ]
  },
  {
   "cell_type": "markdown",
   "id": "cfaf4342",
   "metadata": {},
   "source": [
    "2. When does the code in a function run: when it's specified or when it's called?\n",
    "\n",
    "The code inside a function runs when the function is called or invoked."
   ]
  },
  {
   "cell_type": "markdown",
   "id": "b066d862",
   "metadata": {},
   "source": [
    "3. What statement creates a function?\n",
    "\n",
    "Following statement creates a function:"
   ]
  },
  {
   "cell_type": "code",
   "execution_count": null,
   "id": "176e1f24",
   "metadata": {},
   "outputs": [],
   "source": [
    "# def statement is used to create a function\n",
    "def function_name(arguments): # arguments are optional\n",
    "        # function body\n",
    "        return #optional"
   ]
  },
  {
   "cell_type": "markdown",
   "id": "648e548b",
   "metadata": {},
   "source": [
    "4. What is the difference between a function and a function call?\n",
    "\n",
    "Functions stands for when we are defining and creating a code describing a particular functionality (specific task or action). However, it gets executed when a function is explicitly called."
   ]
  },
  {
   "cell_type": "markdown",
   "id": "a8ba7a16",
   "metadata": {},
   "source": [
    "5. How many global scopes are there in a Python program? How many local scopes?\n",
    "\n",
    "A Python program has a single global scope, which represents the outermost level of the program. Each function call creates a new local scope, which is independent and separate from other local scopes. The number of local scopes depends on the number of function calls made during program execution."
   ]
  },
  {
   "cell_type": "markdown",
   "id": "6a6c5657",
   "metadata": {},
   "source": [
    "6. What happens to variables in a local scope when the function call returns?\n",
    "\n",
    "When a function call returns, the local variables within that function's scope cease to exist. They are no longer accessible or available for use. The memory space allocated to the local variables is released, and their values are discarded. "
   ]
  },
  {
   "cell_type": "markdown",
   "id": "795ee44b",
   "metadata": {},
   "source": [
    "7. What is the concept of a return value? Is it possible to have a return value in an expression?\n",
    "\n",
    "Whenever a function is created it can return a value according to the task or action performed by the function. The value that the function returns can be used wherever the function is called. \n",
    "\n",
    "It is indeed possible to use a return value in an expression as shown in example below: "
   ]
  },
  {
   "cell_type": "code",
   "execution_count": 1,
   "id": "a0f7bd71",
   "metadata": {},
   "outputs": [
    {
     "name": "stdout",
     "output_type": "stream",
     "text": [
      "11\n"
     ]
    }
   ],
   "source": [
    "# creating a function that returns sum of two numbers\n",
    "def add_numbers(a, b):\n",
    "    return a + b\n",
    "\n",
    "# calling the function in an expression that performs addition on returned values\n",
    "total = add_numbers(5, 2) + add_numbers(1, 3)\n",
    "print(total)  "
   ]
  },
  {
   "cell_type": "markdown",
   "id": "78de7f3f",
   "metadata": {},
   "source": [
    "8. If a function does not have a return statement, what is the return value of a call to that function?\n",
    "\n",
    "If a function does not have a return statement, it will return None value when the function is called. \n",
    "\n",
    "For example:"
   ]
  },
  {
   "cell_type": "code",
   "execution_count": 2,
   "id": "5122928a",
   "metadata": {},
   "outputs": [
    {
     "name": "stdout",
     "output_type": "stream",
     "text": [
      "None\n"
     ]
    }
   ],
   "source": [
    "# this function does not return a statement\n",
    "def add_numbers(a, b):\n",
    "    sum_num = a+b\n",
    "\n",
    "# when the function is called, None is the output\n",
    "print(add_numbers(5,6))"
   ]
  },
  {
   "cell_type": "code",
   "execution_count": 5,
   "id": "b23235e6",
   "metadata": {},
   "outputs": [
    {
     "name": "stdout",
     "output_type": "stream",
     "text": [
      "11\n"
     ]
    }
   ],
   "source": [
    "# however print statement can be used in the function to show the result\n",
    "# this is to signify that a function can work without a return statement\n",
    "def add_numbers(a, b):\n",
    "    sum_num = a+b\n",
    "    print(sum_num)\n",
    "    \n",
    "add_numbers(5,6)"
   ]
  },
  {
   "cell_type": "markdown",
   "id": "1861da6f",
   "metadata": {},
   "source": [
    "9. How do you make a function variable refer to the global variable?\n",
    "\n",
    "To make a function variable refer to a global variable, use the global keyword followed by the variable name within the function. This allows you to modify or access the global variable from within the function. "
   ]
  },
  {
   "cell_type": "markdown",
   "id": "7a138e69",
   "metadata": {},
   "source": [
    "10. What is the data type of None?\n",
    "\n",
    "The data type of None is NoneType. It is a special type in Python that represents the absence of a value or a null value. "
   ]
  },
  {
   "cell_type": "code",
   "execution_count": 6,
   "id": "31f4dac5",
   "metadata": {},
   "outputs": [
    {
     "data": {
      "text/plain": [
       "NoneType"
      ]
     },
     "execution_count": 6,
     "metadata": {},
     "output_type": "execute_result"
    }
   ],
   "source": [
    "type(None)"
   ]
  },
  {
   "cell_type": "markdown",
   "id": "5c90e76d",
   "metadata": {},
   "source": [
    "11. What does the sentence import areallyourpetsnamederic do?\n",
    "\n",
    "In Python, the import statement is used to import modules or packages that provide additional functionality. However, the module or package being imported should be a valid and existing module or package in order for the import statement to work correctly.\n",
    "\n",
    "If there is no module named \"areallyourpetsnamederic\" in the Python environment, attempting to import it will result in a ModuleNotFoundError indicating that the module could not be found. However if it exists then we would be able to import this module."
   ]
  },
  {
   "cell_type": "markdown",
   "id": "1650095f",
   "metadata": {},
   "source": [
    "12. If you had a bacon() feature in a spam module, what would you call it after importing spam?\n",
    "\n",
    "After importing spam we can call the bacon() feature using spam.bacon() as shown below:"
   ]
  },
  {
   "cell_type": "code",
   "execution_count": null,
   "id": "9df70c2c",
   "metadata": {},
   "outputs": [],
   "source": [
    "import spam\n",
    "\n",
    "spam.bacon()"
   ]
  },
  {
   "cell_type": "code",
   "execution_count": null,
   "id": "e4428ce2",
   "metadata": {},
   "outputs": [],
   "source": [
    "# It is another way how bacon can be called from spam module\n",
    "from spam import bacon\n",
    "bacon()"
   ]
  },
  {
   "cell_type": "markdown",
   "id": "71a5bbfe",
   "metadata": {},
   "source": [
    "13. What can you do to save a programme from crashing if it encounters an error?\n",
    "\n",
    "Using exception handling one can save a program from crashing when it encounters an error."
   ]
  },
  {
   "cell_type": "markdown",
   "id": "0c3777a6",
   "metadata": {},
   "source": [
    "14. What is the purpose of the try clause? What is the purpose of the except clause?\n",
    "\n",
    "In the try clause, place the code that might cause an exception. The purpose of the except clause is to define the specific actions to be taken when a particular exception occurs. \n",
    "\n",
    "Together, they form the foundation of exception handling in Python, allowing us to handle errors and maintain control over the program's execution flow."
   ]
  }
 ],
 "metadata": {
  "kernelspec": {
   "display_name": "Python 3 (ipykernel)",
   "language": "python",
   "name": "python3"
  },
  "language_info": {
   "codemirror_mode": {
    "name": "ipython",
    "version": 3
   },
   "file_extension": ".py",
   "mimetype": "text/x-python",
   "name": "python",
   "nbconvert_exporter": "python",
   "pygments_lexer": "ipython3",
   "version": "3.10.5"
  }
 },
 "nbformat": 4,
 "nbformat_minor": 5
}
