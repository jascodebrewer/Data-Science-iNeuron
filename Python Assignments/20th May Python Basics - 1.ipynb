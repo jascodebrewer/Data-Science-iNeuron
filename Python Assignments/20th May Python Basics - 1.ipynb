{
 "cells": [
  {
   "cell_type": "markdown",
   "id": "069332b4",
   "metadata": {},
   "source": [
    "Q.1. What are keywords in python? Using the keyword library, print all the python keywords.\n",
    "\n",
    "Keywords are the reserved words that have special meanings and purposes in the Python language. These keywords cannot be used as variable names or identifiers."
   ]
  },
  {
   "cell_type": "code",
   "execution_count": 3,
   "id": "5fd80a4e",
   "metadata": {},
   "outputs": [
    {
     "name": "stdout",
     "output_type": "stream",
     "text": [
      "['False', 'None', 'True', 'and', 'as', 'assert', 'async', 'await', 'break', 'class', 'continue', 'def', 'del', 'elif', 'else', 'except', 'finally', 'for', 'from', 'global', 'if', 'import', 'in', 'is', 'lambda', 'nonlocal', 'not', 'or', 'pass', 'raise', 'return', 'try', 'while', 'with', 'yield']\n"
     ]
    }
   ],
   "source": [
    "# printing all python keywords\n",
    "import keyword\n",
    "\n",
    "print(keyword.kwlist)"
   ]
  },
  {
   "cell_type": "markdown",
   "id": "65b3d706",
   "metadata": {},
   "source": [
    "Q.2. What are the rules to create variables in python?\n",
    "\n",
    "- Variable names must start with a letter (a-z, A-Z) or an underscore (_). They cannot start with a digit (0-9).\n",
    "- Variable names are case-sensitive. For example, \"myVar\" and \"myvar\" are considered as different variables.\n",
    "- Variable names can contain letters (a-z, A-Z), digits (0-9), and underscores (_). They cannot contain spaces or special characters such as @, $, %, etc.\n",
    "- Python keywords cannot be used as variable names. Keywords are reserved words in Python with special meanings and purposes."
   ]
  },
  {
   "cell_type": "markdown",
   "id": "637cf9b2",
   "metadata": {},
   "source": [
    "Q.3. What are the standards and conventions followed for the nomenclature of variables in python to improve code readability and maintainability?\n",
    "\n",
    "In Python, there are several standards and conventions followed for variable naming to improve code readability and maintainability. Here are some commonly followed practices:\n",
    "\n",
    "- Snake Case: Variable names are typically written in all lowercase letters with words separated by underscores. For example: my_variable, total_count, user_name. This convention is called snake case.\n",
    "\n",
    "- Meaningful and Descriptive: Variable names should be meaningful and describe the purpose or content of the variable. This helps in understanding the code and its functionality. For example, instead of using generic names like x or temp, use descriptive names like customer_name, order_total, etc.\n",
    "\n",
    "- Avoid Reserved Keywords: Variables should not have the same name as reserved keywords in Python, such as if, for, while, def, etc. Using reserved keywords as variable names can lead to syntax errors.\n",
    "\n",
    "- Use Consistent Naming Style: Maintain consistency in variable naming throughout your codebase. Stick to a specific naming style and follow it consistently. This makes the code more readable and reduces confusion.\n",
    "\n",
    "- Avoid Single-letter Names: In general, avoid using single-letter variable names unless they are commonly used as abbreviations in the problem domain or have a clear meaning. Instead, choose more descriptive names that provide better context.\n",
    "\n",
    "- Be Concise: While it's important to have descriptive names, it's also essential to keep them concise. Long and overly complex variable names can make the code harder to read. Find a balance between descriptiveness and brevity.\n",
    "\n",
    "- Follow PEP 8 Guidelines: PEP 8 is the official style guide for Python code. It provides recommendations on various aspects of Python coding, including variable naming conventions. Following PEP 8 guidelines ensures consistency and improves code readability."
   ]
  },
  {
   "cell_type": "markdown",
   "id": "6980bc38",
   "metadata": {},
   "source": [
    "Q.4. What will happen if a keyword is used as a variable name?\n",
    "\n",
    "If a keyword is used as a variable name, then an error (SyntaxError) would occur.   \n",
    "For example:"
   ]
  },
  {
   "cell_type": "code",
   "execution_count": 4,
   "id": "9749fd1a",
   "metadata": {},
   "outputs": [
    {
     "ename": "SyntaxError",
     "evalue": "invalid syntax (782978473.py, line 1)",
     "output_type": "error",
     "traceback": [
      "\u001b[1;36m  Cell \u001b[1;32mIn[4], line 1\u001b[1;36m\u001b[0m\n\u001b[1;33m    if = 9\u001b[0m\n\u001b[1;37m       ^\u001b[0m\n\u001b[1;31mSyntaxError\u001b[0m\u001b[1;31m:\u001b[0m invalid syntax\n"
     ]
    }
   ],
   "source": [
    "if = 9"
   ]
  },
  {
   "cell_type": "markdown",
   "id": "f106db5d",
   "metadata": {},
   "source": [
    "Q.5. For what purpose def keyword is used?\n",
    "\n",
    "'def' keyword is used to define a function. "
   ]
  },
  {
   "cell_type": "markdown",
   "id": "6af56958",
   "metadata": {},
   "source": [
    "Q.6. What is the operation of this special character ‘\\’?\n",
    "\n",
    "The special character \\ in Python is called the backslash or escape character. It is used to escape or indicate special characters or sequences in strings and other literals.\n",
    "\n",
    "Some common uses of the backslash include:\n",
    "\n",
    "- Escaping special characters: For example, to include a double quote within a string, you can use \\\" where the backslash escapes the quote character.\n",
    "- Representing special characters: Backslash followed by a specific character represents special characters such as newline (\\n), tab (\\t) etc."
   ]
  },
  {
   "cell_type": "markdown",
   "id": "0458ace0",
   "metadata": {},
   "source": [
    "Q.7. Give an example of the following conditions:\n",
    "(i) Homogeneous list\n",
    "(ii) Heterogeneous set\n",
    "(iii) Homogeneous tuple\n",
    "\n",
    "(i) Homogeneous List:\n",
    ">> [1, 2, 3, 4]  \n",
    "\n",
    "(ii) Heterogeneous set: \n",
    ">> {1, 2, 'apple', 6}\n",
    "\n",
    "(iii) Homogeneous tuple\n",
    ">> (1, 2, 3)"
   ]
  },
  {
   "cell_type": "markdown",
   "id": "90eef7be",
   "metadata": {},
   "source": [
    "Q.8. Explain the mutable and immutable data types with proper explanation & examples.\n",
    "\n",
    "Mutable Data Types:\n",
    "Mutable data types are those that can be modified after they are created. This means you can change their values, add or remove elements, or update their properties without creating a new object. Some examples of mutable data types in Python are lists, dictionaries, and sets.\n",
    "\n",
    "Immutable Data Types:\n",
    "Immutable data types, on the other hand, are those that cannot be modified once they are created. This means their values cannot be changed, and any operation that appears to modify the data type actually creates a new object. Some examples of immutable data types in Python are strings, integers, floats, and tuples."
   ]
  },
  {
   "cell_type": "code",
   "execution_count": 11,
   "id": "67cfc12d",
   "metadata": {},
   "outputs": [
    {
     "data": {
      "text/plain": [
       "[1, 2, 3]"
      ]
     },
     "execution_count": 11,
     "metadata": {},
     "output_type": "execute_result"
    }
   ],
   "source": [
    "# list - a mutable data type\n",
    "my_list = [1,2,4]\n",
    "my_list[2] = 3\n",
    "my_list"
   ]
  },
  {
   "cell_type": "code",
   "execution_count": 12,
   "id": "53c33f4a",
   "metadata": {},
   "outputs": [
    {
     "ename": "TypeError",
     "evalue": "'tuple' object does not support item assignment",
     "output_type": "error",
     "traceback": [
      "\u001b[1;31m---------------------------------------------------------------------------\u001b[0m",
      "\u001b[1;31mTypeError\u001b[0m                                 Traceback (most recent call last)",
      "Cell \u001b[1;32mIn[12], line 2\u001b[0m\n\u001b[0;32m      1\u001b[0m my_tuple \u001b[38;5;241m=\u001b[39m (\u001b[38;5;241m1\u001b[39m,\u001b[38;5;241m2\u001b[39m,\u001b[38;5;241m4\u001b[39m)\n\u001b[1;32m----> 2\u001b[0m \u001b[43mmy_tuple\u001b[49m\u001b[43m[\u001b[49m\u001b[38;5;241;43m2\u001b[39;49m\u001b[43m]\u001b[49m \u001b[38;5;241m=\u001b[39m \u001b[38;5;241m3\u001b[39m\n",
      "\u001b[1;31mTypeError\u001b[0m: 'tuple' object does not support item assignment"
     ]
    }
   ],
   "source": [
    "# tuple - a immutable data type\n",
    "my_tuple = (1,2,4)\n",
    "my_tuple[2] = 3"
   ]
  },
  {
   "cell_type": "markdown",
   "id": "c8f8375f",
   "metadata": {},
   "source": [
    "Q.9. Write a code to create the given structure using only for loop.  \n",
    "\n",
    "*\n",
    "***\n",
    "*****\n",
    "*******\n",
    "*********"
   ]
  },
  {
   "cell_type": "code",
   "execution_count": 12,
   "id": "61a158e6",
   "metadata": {},
   "outputs": [
    {
     "name": "stdout",
     "output_type": "stream",
     "text": [
      "    *\n",
      "   ***\n",
      "  *****\n",
      " *******\n",
      "*********\n"
     ]
    }
   ],
   "source": [
    "n = 5\n",
    "for i in range(n):\n",
    "    print(' ' * (n-i-1) + '*' * (2*i+1))"
   ]
  },
  {
   "cell_type": "markdown",
   "id": "2bc4e797",
   "metadata": {},
   "source": [
    "Q.10. Write a code to create the given structure using while loop.\n",
    "|||||||||\n",
    "|||||||\n",
    "|||||\n",
    "|||\n",
    "|"
   ]
  },
  {
   "cell_type": "code",
   "execution_count": 16,
   "id": "29e79e90",
   "metadata": {},
   "outputs": [
    {
     "name": "stdout",
     "output_type": "stream",
     "text": [
      "|||||||||\n",
      " |||||||\n",
      "  |||||\n",
      "   |||\n",
      "    |\n"
     ]
    }
   ],
   "source": [
    "i = 11\n",
    "while i > 2:\n",
    "    print(' ' * ((11 - i) // 2) + '|' * (i - 2))\n",
    "    i -= 2\n"
   ]
  }
 ],
 "metadata": {
  "kernelspec": {
   "display_name": "Python 3 (ipykernel)",
   "language": "python",
   "name": "python3"
  },
  "language_info": {
   "codemirror_mode": {
    "name": "ipython",
    "version": 3
   },
   "file_extension": ".py",
   "mimetype": "text/x-python",
   "name": "python",
   "nbconvert_exporter": "python",
   "pygments_lexer": "ipython3",
   "version": "3.10.5"
  }
 },
 "nbformat": 4,
 "nbformat_minor": 5
}
