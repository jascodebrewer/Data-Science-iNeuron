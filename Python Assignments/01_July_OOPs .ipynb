{
 "cells": [
  {
   "cell_type": "markdown",
   "id": "b99c9767",
   "metadata": {},
   "source": [
    "1. What is the primary goal of Object-Oriented Programming (OOP)?\n",
    "\n",
    "Object-Oriented Programming provides a structured approach to software development, making code more modular, reusable, and easier to maintain, understand, and extend. The key goals of OOP include:\n",
    "\n",
    "- Reusability  \n",
    "- Encapsulation\n",
    "- Inheritance\n",
    "- Polymorphism\n",
    "- Abstraction"
   ]
  },
  {
   "cell_type": "markdown",
   "id": "fe4e94af",
   "metadata": {},
   "source": [
    "2. What is an object in Python?\n",
    "\n",
    "In Python, almost everything is an object. This includes built-in data types such as lists, dictionaries, strings, numbers, as well as user-defined classes, functions, and modules. \n",
    "\n",
    "With respect to classes, objects in Python are instances of classes, which serve as blueprints or templates defining the attributes and methods that the objects possess. Even when classes are defined in Python, the classes themselves are objects. \n",
    "\n",
    "This object-oriented nature of Python allows for structured and modular programming, making it easier to work with data and functions in a systematic way."
   ]
  },
  {
   "cell_type": "markdown",
   "id": "27cd5664",
   "metadata": {},
   "source": [
    "3. What is a class in Python?\n",
    "\n",
    "In Python, a class acts as a blueprint or template used to create objects. It serves as a guide that determines how objects of a specific class should be structured and behave. A class essentially functions as a blueprint for a particular kind of object, outlining its attributes and methods. This approach helps in the organization and structuring of code, facilitating code reuse, encapsulation, and abstraction."
   ]
  },
  {
   "cell_type": "markdown",
   "id": "18a551e4",
   "metadata": {},
   "source": [
    "4. What are attributes and methods in a class?\n",
    "\n",
    "Attributes: Attributes are variables associated with a class or its objects and store information that describes the object's properties. These can be accessed or modified by the object's methods or directly accessed by code outside the class.\n",
    "\n",
    "Methods: Methods are functions defined within a class that define the behavior of the objects. They encapsulate the actions or operations that objects can perform. Methods operate on the data stored in the attributes of an object. "
   ]
  },
  {
   "cell_type": "markdown",
   "id": "87da9ce9",
   "metadata": {},
   "source": [
    "5. What is the difference between class variables and instance variables in Python?\n",
    "\n",
    "Class Variables:\n",
    "\n",
    "Class variables are variables that are shared among all instances of a class. They are declared within the class but outside any class methods or constructor. These are defined at the class level and are accessed using the class name. They are often used to define constants or default values that are shared across objects.\n",
    "\n",
    "Instance Variables:\n",
    "\n",
    "These variables are specific to each instance of a class and are declared within the class constructor or method. They are accessed using the instance name (self) within the class methods or by accessing the instance variables directly from the object."
   ]
  },
  {
   "cell_type": "markdown",
   "id": "1b590e7b",
   "metadata": {},
   "source": [
    "6. What is the purpose of the self parameter in Python class methods?\n",
    "\n",
    "In Python class methods, the self parameter refers to the instance (object) of the class itself. It is a way for methods to access and manipulate the attributes and methods specific to that particular instance.  \n",
    "For example:\n",
    "By using self.variable_name, methods can access the instance variables of the class."
   ]
  },
  {
   "cell_type": "markdown",
   "id": "06c9fa2d",
   "metadata": {},
   "source": [
    "7. For a library management system, you have to design the \"Book\" class with OOP\n",
    "principles in mind. The “Book” class will have following attributes:\n",
    "a. title: Represents the title of the book.\n",
    "b. author: Represents the author(s) of the book.\n",
    "c. isbn: Represents the ISBN (International Standard Book Number) of the book.\n",
    "d. publication_year: Represents the year of publication of the book.\n",
    "e. available_copies: Represents the number of copies available for checkout.\n",
    "The class will also include the following methods:\n",
    "a. check_out(self): Decrements the available copies by one if there are copies\n",
    "available for checkout.\n",
    "b. return_book(self): Increments the available copies by one when a book is\n",
    "returned.\n",
    "c. display_book_info(self): Displays the information about the book, including its\n",
    "attributes and the number of available copies."
   ]
  },
  {
   "cell_type": "code",
   "execution_count": 1,
   "id": "d3dc3265",
   "metadata": {},
   "outputs": [],
   "source": [
    "class Book:\n",
    "    def __init__(self, title, author, isbn, publication_year, available_copies):\n",
    "        self.title = title  # Represents the title of the book.\n",
    "        self.author = author  # Represents the author(s) of the book.\n",
    "        self.isbn = isbn  # Represents the ISBN (International Standard Book Number) of the book.\n",
    "        self.publication_year = publication_year  # Represents the year of publication of the book.\n",
    "        self.available_copies = available_copies  # Represents the number of copies available for checkout.\n",
    "        \n",
    "    def check_out(self):\n",
    "        if self.available_copies > 0:\n",
    "            self.available_copies -= 1\n",
    "        else:\n",
    "            print(\"There are no copies available for checkout!\")  # Decrements the available copies by one if there are copies available for checkout.\n",
    "    \n",
    "    def return_book(self):\n",
    "        self.available_copies += 1  # Increments the available copies by one when a book is returned.\n",
    "        \n",
    "    def display_book_info(self):\n",
    "        print(\"Book Information:\")\n",
    "        print(\"Title:\", self.title)\n",
    "        print(\"Author:\", self.author)\n",
    "        print(\"ISBN:\", self.isbn)\n",
    "        print(\"Publication Year:\", self.publication_year)\n",
    "        print(\"Available Copies:\", self.available_copies)  # Displays the information about the book, including its attributes and the number of available copies.\n"
   ]
  },
  {
   "cell_type": "code",
   "execution_count": 2,
   "id": "a7433065",
   "metadata": {},
   "outputs": [],
   "source": [
    "# Creating an instance of the Ticket class\n",
    "book1 = Book('To kill a mocking bird', 'Harper Lee', 9780060935467, '1960', 20)"
   ]
  },
  {
   "cell_type": "code",
   "execution_count": 3,
   "id": "7586d8fa",
   "metadata": {},
   "outputs": [
    {
     "data": {
      "text/plain": [
       "20"
      ]
     },
     "execution_count": 3,
     "metadata": {},
     "output_type": "execute_result"
    }
   ],
   "source": [
    "# Accessing its available_copies attribute\n",
    "book1.available_copies"
   ]
  },
  {
   "cell_type": "code",
   "execution_count": 4,
   "id": "9e4dbe77",
   "metadata": {},
   "outputs": [],
   "source": [
    "# Accessing its check_out method\n",
    "book1.check_out()"
   ]
  },
  {
   "cell_type": "code",
   "execution_count": 5,
   "id": "368d8605",
   "metadata": {},
   "outputs": [
    {
     "data": {
      "text/plain": [
       "19"
      ]
     },
     "execution_count": 5,
     "metadata": {},
     "output_type": "execute_result"
    }
   ],
   "source": [
    "book1.available_copies"
   ]
  },
  {
   "cell_type": "code",
   "execution_count": 6,
   "id": "b71d7861",
   "metadata": {},
   "outputs": [],
   "source": [
    "# Accessing its return_book method\n",
    "book1.return_book()"
   ]
  },
  {
   "cell_type": "code",
   "execution_count": 7,
   "id": "287f136f",
   "metadata": {},
   "outputs": [
    {
     "data": {
      "text/plain": [
       "20"
      ]
     },
     "execution_count": 7,
     "metadata": {},
     "output_type": "execute_result"
    }
   ],
   "source": [
    "book1.available_copies"
   ]
  },
  {
   "cell_type": "code",
   "execution_count": 8,
   "id": "09f91243",
   "metadata": {},
   "outputs": [
    {
     "name": "stdout",
     "output_type": "stream",
     "text": [
      "Book Information:\n",
      "Title: To kill a mocking bird\n",
      "Author: Harper Lee\n",
      "ISBN: 9780060935467\n",
      "Publication Year: 1960\n",
      "Available Copies: 20\n"
     ]
    }
   ],
   "source": [
    "# Accessing its display_book_info method\n",
    "book1.display_book_info()"
   ]
  },
  {
   "cell_type": "markdown",
   "id": "e4a2bf36",
   "metadata": {},
   "source": [
    "8. For a ticket booking system, you have to design the \"Ticket\" class with OOP\n",
    "principles in mind. The “Ticket” class should have the following attributes:\n",
    "a. ticket_id: Represents the unique identifier for the ticket.\n",
    "b. event_name: Represents the name of the event.\n",
    "c. event_date: Represents the date of the event.\n",
    "d. venue: Represents the venue of the event.\n",
    "e. seat_number: Represents the seat number associated with the ticket.\n",
    "f. price: Represents the price of the ticket.\n",
    "g. is_reserved: Represents the reservation status of the ticket.\n",
    "The class also includes the following methods:\n",
    "a. reserve_ticket(self): Marks the ticket as reserved if it is not already reserved.\n",
    "b. cancel_reservation(self): Cancels the reservation of the ticket if it is already\n",
    "reserved.\n",
    "c. display_ticket_info(self): Displays the information about the ticket, including its\n",
    "attributes and reservation status."
   ]
  },
  {
   "cell_type": "code",
   "execution_count": 9,
   "id": "5329b908",
   "metadata": {},
   "outputs": [],
   "source": [
    "class Ticket:\n",
    "    def __init__(self, ticket_id, event_name, event_date, venue, seat_number, price, is_reserved):\n",
    "        self.ticket_id = ticket_id  # Represents the unique identifier for the ticket.\n",
    "        self.event_name = event_name  # Represents the name of the event.\n",
    "        self.event_date = event_date  # Represents the date of the event.\n",
    "        self.venue = venue  # Represents the venue of the event.\n",
    "        self.seat_number = seat_number  # Represents the seat number associated with the ticket.\n",
    "        self.price = price  # Represents the price of the ticket.\n",
    "        self.is_reserved = is_reserved  # Represents the reservation status of the ticket.\n",
    "        \n",
    "    def reserve_ticket(self):\n",
    "        if self.is_reserved == False:\n",
    "            self.is_reserved = True\n",
    "            print(\"Your ticket is reserved\")  # Marks the ticket as reserved if it is not already reserved.\n",
    "        else:\n",
    "            print(\"Your ticket is already reserved!\")\n",
    "            \n",
    "    def cancel_reservation(self):\n",
    "        if self.is_reserved == True:\n",
    "            self.is_reserved = False\n",
    "            print(\"Your reservation is canceled\")  # Cancels the reservation of the ticket if it is already reserved.\n",
    "        else:\n",
    "            print(\"Your ticket is not reserved\")\n",
    "            \n",
    "    def display_ticket_info(self):\n",
    "        print(\"Ticket Information:\")\n",
    "        print(\"Ticket ID:\", self.ticket_id)\n",
    "        print(\"Event Name:\", self.event_name)\n",
    "        print(\"Event Date:\", self.event_date)\n",
    "        print(\"Venue:\", self.venue)\n",
    "        print(\"Seat Number:\", self.seat_number)\n",
    "        print(\"Price:\", self.price)\n",
    "        print(\"Is Reserved:\", self.is_reserved)"
   ]
  },
  {
   "cell_type": "code",
   "execution_count": 10,
   "id": "e056c2f5",
   "metadata": {},
   "outputs": [],
   "source": [
    "# Creating an instance of the Ticket class\n",
    "ticket1 = Ticket(\"T123\", \"Music Concert\", \"2023-07-15\", \"City Stadium\", \"A12\", 50.00, False)"
   ]
  },
  {
   "cell_type": "code",
   "execution_count": 11,
   "id": "38e9b324",
   "metadata": {},
   "outputs": [
    {
     "name": "stdout",
     "output_type": "stream",
     "text": [
      "Ticket Information:\n",
      "Ticket ID: T123\n",
      "Event Name: Music Concert\n",
      "Event Date: 2023-07-15\n",
      "Venue: City Stadium\n",
      "Seat Number: A12\n",
      "Price: 50.0\n",
      "Is Reserved: False\n"
     ]
    }
   ],
   "source": [
    "# Accessing display_ticket_info method of the Ticket instance\n",
    "ticket1.display_ticket_info()"
   ]
  },
  {
   "cell_type": "code",
   "execution_count": 12,
   "id": "3d1563f0",
   "metadata": {},
   "outputs": [
    {
     "name": "stdout",
     "output_type": "stream",
     "text": [
      "Your ticket is reserved\n"
     ]
    }
   ],
   "source": [
    "# Accessing reserve_ticket method of the Ticket instance\n",
    "ticket1.reserve_ticket()"
   ]
  },
  {
   "cell_type": "code",
   "execution_count": 13,
   "id": "b457ef5c",
   "metadata": {},
   "outputs": [
    {
     "name": "stdout",
     "output_type": "stream",
     "text": [
      "Ticket Information:\n",
      "Ticket ID: T123\n",
      "Event Name: Music Concert\n",
      "Event Date: 2023-07-15\n",
      "Venue: City Stadium\n",
      "Seat Number: A12\n",
      "Price: 50.0\n",
      "Is Reserved: True\n"
     ]
    }
   ],
   "source": [
    "ticket1.display_ticket_info()"
   ]
  },
  {
   "cell_type": "code",
   "execution_count": 14,
   "id": "36f75083",
   "metadata": {},
   "outputs": [
    {
     "name": "stdout",
     "output_type": "stream",
     "text": [
      "Your reservation is canceled\n"
     ]
    }
   ],
   "source": [
    "# Accessing cancel_reservation method of the Ticket instance\n",
    "ticket1.cancel_reservation()"
   ]
  },
  {
   "cell_type": "code",
   "execution_count": 15,
   "id": "7a24cf7c",
   "metadata": {},
   "outputs": [
    {
     "name": "stdout",
     "output_type": "stream",
     "text": [
      "Ticket Information:\n",
      "Ticket ID: T123\n",
      "Event Name: Music Concert\n",
      "Event Date: 2023-07-15\n",
      "Venue: City Stadium\n",
      "Seat Number: A12\n",
      "Price: 50.0\n",
      "Is Reserved: False\n"
     ]
    }
   ],
   "source": [
    "ticket1.display_ticket_info()"
   ]
  },
  {
   "cell_type": "markdown",
   "id": "dfe05c88",
   "metadata": {},
   "source": [
    "9. You are creating a shopping cart for an e-commerce website. Using OOP to model\n",
    "the \"ShoppingCart\" functionality the class should contain following attributes and\n",
    "methods:\n",
    "a. items: Represents the list of items in the shopping cart.\n",
    "The class also includes the following methods:\n",
    "\n",
    "a. add_item(self, item): Adds an item to the shopping cart by appending it to the\n",
    "list of items.\n",
    "b. remove_item(self, item): Removes an item from the shopping cart if it exists in\n",
    "the list.\n",
    "c. view_cart(self): Displays the items currently present in the shopping cart.\n",
    "d. clear_cart(self): Clears all items from the shopping cart by reassigning an\n",
    "empty list to the items attribute."
   ]
  },
  {
   "cell_type": "code",
   "execution_count": 16,
   "id": "30a00ed5",
   "metadata": {},
   "outputs": [],
   "source": [
    "class ShoppingCart:\n",
    "    def __init__(self):\n",
    "        # Initialize an empty list to store items in the shopping cart\n",
    "        self.items = []\n",
    "        \n",
    "    def add_item(self, item):\n",
    "        # Add the given item to the shopping cart\n",
    "        self.items.append(item)\n",
    "        \n",
    "    def remove_item(self, item):\n",
    "        # Check if the item exists in the shopping cart\n",
    "        if item in self.items:\n",
    "            # Remove the item from the shopping cart\n",
    "            self.items.remove(item)\n",
    "        else:\n",
    "            # Display a message if the item is not found in the shopping cart\n",
    "            print(\"The item is not in the cart.\")\n",
    "        \n",
    "    def view_cart(self):\n",
    "        if len(self.items) > 0:\n",
    "            # Display the items in the shopping cart\n",
    "            print(\"The items in the cart are:\")\n",
    "            for item in self.items:\n",
    "                print(item)\n",
    "        else:\n",
    "            # Display a message if the shopping cart is empty\n",
    "            print(\"The cart is empty\")\n",
    "    \n",
    "    def clear_cart(self):\n",
    "        # Clear all items from the shopping cart by reassigning an empty list\n",
    "        self.items = []\n"
   ]
  },
  {
   "cell_type": "code",
   "execution_count": 17,
   "id": "28a95296",
   "metadata": {},
   "outputs": [],
   "source": [
    "# Create an instance of the ShoppingCart class\n",
    "cart = ShoppingCart()"
   ]
  },
  {
   "cell_type": "code",
   "execution_count": 18,
   "id": "5a59cfea",
   "metadata": {},
   "outputs": [],
   "source": [
    "# Add items to the cart\n",
    "cart.add_item(\"Item 1\")\n",
    "cart.add_item(\"Item 2\")\n",
    "cart.add_item(\"Item 3\")"
   ]
  },
  {
   "cell_type": "code",
   "execution_count": 19,
   "id": "16165ad6",
   "metadata": {},
   "outputs": [
    {
     "name": "stdout",
     "output_type": "stream",
     "text": [
      "The items in the cart are:\n",
      "Item 1\n",
      "Item 2\n",
      "Item 3\n"
     ]
    }
   ],
   "source": [
    "# View the items in the cart\n",
    "cart.view_cart()"
   ]
  },
  {
   "cell_type": "code",
   "execution_count": 20,
   "id": "4e69cbc1",
   "metadata": {},
   "outputs": [],
   "source": [
    "# Remove an item from the cart\n",
    "cart.remove_item(\"Item 2\")"
   ]
  },
  {
   "cell_type": "code",
   "execution_count": 21,
   "id": "e6e0e8f4",
   "metadata": {},
   "outputs": [
    {
     "name": "stdout",
     "output_type": "stream",
     "text": [
      "The items in the cart are:\n",
      "Item 1\n",
      "Item 3\n"
     ]
    }
   ],
   "source": [
    "# View the updated items in the cart\n",
    "cart.view_cart()"
   ]
  },
  {
   "cell_type": "code",
   "execution_count": 22,
   "id": "ea6fdf01",
   "metadata": {},
   "outputs": [],
   "source": [
    "# Clear the cart\n",
    "cart.clear_cart()"
   ]
  },
  {
   "cell_type": "code",
   "execution_count": 23,
   "id": "d89be9fb",
   "metadata": {},
   "outputs": [
    {
     "name": "stdout",
     "output_type": "stream",
     "text": [
      "The cart is empty\n"
     ]
    }
   ],
   "source": [
    "# View the items in the empty cart\n",
    "cart.view_cart()"
   ]
  },
  {
   "cell_type": "markdown",
   "id": "60c438b0",
   "metadata": {},
   "source": [
    "10. Imagine a school management system. You have to design the \"Student\" class using\n",
    "OOP concepts.The “Student” class has the following attributes:\n",
    "a. name: Represents the name of the student.\n",
    "b. age: Represents the age of the student.\n",
    "c. grade: Represents the grade or class of the student.\n",
    "d. student_id: Represents the unique identifier for the student.\n",
    "e. attendance: Represents the attendance record of the student.\n",
    "The class should also include the following methods:\n",
    "a. update_attendance(self, date, status): Updates the attendance record of the\n",
    "student for a given date with the provided status (e.g., present or absent).\n",
    "b. get_attendance(self): Returns the attendance record of the student.\n",
    "c. get_average_attendance(self): Calculates and returns the average\n",
    "attendance percentage of the student based on their attendance record."
   ]
  },
  {
   "cell_type": "code",
   "execution_count": 24,
   "id": "d49cfe3a",
   "metadata": {},
   "outputs": [],
   "source": [
    "class Student:\n",
    "    def __init__(self, name, age, grade, student_id):\n",
    "        # Initialize the attributes of the Student class\n",
    "        self.name = name  # Represents the name of the student\n",
    "        self.age = age  # Represents the age of the student\n",
    "        self.grade = grade  # Represents the grade or class of the student\n",
    "        self.student_id = student_id  # Represents the unique identifier for the student\n",
    "        self.attendance = []  # Represents the attendance record of the student\n",
    "        \n",
    "    def update_attendance(self, date, status):\n",
    "        # Update the attendance record of the student for a given date with the provided status\n",
    "        self.attendance.append({'Date': date, 'Status': status})\n",
    "        \n",
    "    def get_attendance(self):\n",
    "        # Display the attendance record of the student\n",
    "        for attend in self.attendance:\n",
    "            print(attend)\n",
    "            \n",
    "    def get_average_attendance(self):\n",
    "        '''\n",
    "        Calculates and returns the average\n",
    "        attendance percentage of the student \n",
    "        based on their attendance record\n",
    "        '''\n",
    "        count = 0\n",
    "        for record in self.attendance:\n",
    "            if record[\"Status\"] == 'present':\n",
    "                count += 1\n",
    "        average = count / len(self.attendance)\n",
    "        avg_percentage = round(average * 100, 2)\n",
    "        return avg_percentage\n"
   ]
  },
  {
   "cell_type": "code",
   "execution_count": 25,
   "id": "353dc4f0",
   "metadata": {},
   "outputs": [],
   "source": [
    "# Create an instance of the Student class\n",
    "student1 = Student(\"Dwight\", 12, 6, 'Stu17')"
   ]
  },
  {
   "cell_type": "code",
   "execution_count": 26,
   "id": "e59b9f50",
   "metadata": {},
   "outputs": [],
   "source": [
    "# Update student's attendance\n",
    "student1.update_attendance('12-07-2022', 'present')"
   ]
  },
  {
   "cell_type": "code",
   "execution_count": 27,
   "id": "69e23dbb",
   "metadata": {},
   "outputs": [],
   "source": [
    "student1.update_attendance('13-07-2022', 'present')\n",
    "student1.update_attendance('14-07-2022', 'present')\n",
    "student1.update_attendance('15-07-2022', 'absent')\n",
    "student1.update_attendance('16-07-2022', 'present')\n",
    "student1.update_attendance('17-07-2022', 'present')\n",
    "student1.update_attendance('18-07-2022', 'absent')"
   ]
  },
  {
   "cell_type": "code",
   "execution_count": 28,
   "id": "2b4db489",
   "metadata": {
    "scrolled": true
   },
   "outputs": [
    {
     "name": "stdout",
     "output_type": "stream",
     "text": [
      "{'Date': '12-07-2022', 'Status': 'present'}\n",
      "{'Date': '13-07-2022', 'Status': 'present'}\n",
      "{'Date': '14-07-2022', 'Status': 'present'}\n",
      "{'Date': '15-07-2022', 'Status': 'absent'}\n",
      "{'Date': '16-07-2022', 'Status': 'present'}\n",
      "{'Date': '17-07-2022', 'Status': 'present'}\n",
      "{'Date': '18-07-2022', 'Status': 'absent'}\n"
     ]
    }
   ],
   "source": [
    "# get the attendance of the student\n",
    "student1.get_attendance()"
   ]
  },
  {
   "cell_type": "code",
   "execution_count": 29,
   "id": "af932484",
   "metadata": {},
   "outputs": [
    {
     "name": "stdout",
     "output_type": "stream",
     "text": [
      "The average attendance percentage of Dwight is: 71.43%\n"
     ]
    }
   ],
   "source": [
    "# get average attendance in percentage using get_average_attendance method of class\n",
    "percentage = student1.get_average_attendance()\n",
    "print(f\"The average attendance percentage of {student1.name} is: {percentage}%\")"
   ]
  }
 ],
 "metadata": {
  "kernelspec": {
   "display_name": "Python 3 (ipykernel)",
   "language": "python",
   "name": "python3"
  },
  "language_info": {
   "codemirror_mode": {
    "name": "ipython",
    "version": 3
   },
   "file_extension": ".py",
   "mimetype": "text/x-python",
   "name": "python",
   "nbconvert_exporter": "python",
   "pygments_lexer": "ipython3",
   "version": "3.10.5"
  }
 },
 "nbformat": 4,
 "nbformat_minor": 5
}
