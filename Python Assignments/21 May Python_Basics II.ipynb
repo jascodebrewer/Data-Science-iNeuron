{
 "cells": [
  {
   "cell_type": "markdown",
   "id": "682f63e7",
   "metadata": {},
   "source": [
    "Q.1. Create two int type variables, apply addition, subtraction, division and multiplications\n",
    "and store the results in variables. Then print the data in the following format by calling the\n",
    "variables:\n",
    "First variable is __ & second variable is __.\n",
    "Addition: __ + __ = __\n",
    "Subtraction: __ - __ = __\n",
    "Multiplication: __ * __ = __\n",
    "Division: __ / __ = __"
   ]
  },
  {
   "cell_type": "code",
   "execution_count": 4,
   "id": "a07dab17",
   "metadata": {},
   "outputs": [
    {
     "name": "stdout",
     "output_type": "stream",
     "text": [
      "First variable is 10 & second variable is 20\n",
      "Addition: 10 + 20 = 30\n",
      "Subtraction: 10 - 20 = -10\n",
      "Multiplication: 10 * 20 = 200\n",
      "Division: 10 / 20 = 0.5\n"
     ]
    }
   ],
   "source": [
    "# create variables\n",
    "X = 10\n",
    "y = 20\n",
    "\n",
    "# perform mathematical operations\n",
    "the_sum = X + y\n",
    "the_subtraction = X - y\n",
    "the_multiplication = X * y\n",
    "the_division = X /  y\n",
    "\n",
    "# print the output\n",
    "print(f\"First variable is {X} & second variable is {y}\")\n",
    "print(f'Addition: {X} + {y} = {the_sum}')\n",
    "print(f'Subtraction: {X} - {y} = {the_subtraction}')\n",
    "print(f'Multiplication: {X} * {y} = {the_multiplication}')\n",
    "print(f'Division: {X} / {y} = {the_division}')"
   ]
  },
  {
   "cell_type": "markdown",
   "id": "e01b7116",
   "metadata": {},
   "source": [
    "Q.2. What is the difference between the following operators:\n",
    "(i) ‘/’ & ‘//’\n",
    "(ii) ‘**’ & ‘^’\n",
    "\n",
    "(i) / and //:\n",
    "\n",
    "- / is the division operator in Python, which performs floating-point division. It returns the quotient as a float, even if the operands are integers.\n",
    "- // is the floor division operator in Python, which performs integer division. It returns the quotient as an integer, discarding any fractional part.\n",
    "\n",
    "Example:\n",
    "print(7 / 2)   # Output: 3.5\n",
    "print(7 // 2)  # Output: 3\n",
    "\n",
    "(ii) ‘**’ & ‘^’\n",
    "\n",
    "- ** is the exponentiation operator in Python, which raises the left operand to the power of the right operand.\n",
    "- ^ is not the exponentiation operator in Python. Instead, it is the bitwise XOR operator, used for performing bitwise exclusive OR operation on the binary representations of the operands.\n",
    "\n",
    "Example:\n",
    "print(2 ** 3)  # Output: 8\n",
    "print(2 ^ 3)   # Output: 1 (bitwise XOR of 2 and 3: 0010 XOR 0011 = 0001)"
   ]
  },
  {
   "cell_type": "markdown",
   "id": "7976e51c",
   "metadata": {},
   "source": [
    "Q.3. List the logical operators.\n",
    "\n",
    "Logical operators are:\n",
    "\n",
    "- and - The and operator returns True if both operands are True, otherwise it returns False. It performs a logical AND operation.\n",
    "\n",
    "- or - The or operator returns True if at least one of the operands is True, otherwise it returns False. It performs a logical OR operation.\n",
    "\n",
    "- not - The not operator is a unary operator that returns the opposite of the operand's logical value. If the operand is True, not returns False, and if the operand is False, not returns True."
   ]
  },
  {
   "cell_type": "markdown",
   "id": "0f3cf6f7",
   "metadata": {},
   "source": [
    "Q.4. Explain right shift operator and left shift operator with examples.\n",
    "\n",
    "In Python, the right shift (>>) and left shift (<<) operators are bitwise shift operators that perform bit-level shifting of integer values.\n",
    "\n",
    "Right Shift (>>):\n",
    "The right shift operator (>>) shifts the bits of a number to the right by a specified number of positions. It moves each bit to the right by the specified number of positions and fills the vacant positions on the left with zeros. \n",
    "\n",
    "Left Shift (<<):\n",
    "The left shift operator (<<) shifts the bits of a number to the left by a specified number of positions. It moves each bit to the left by the specified number of positions and fills the vacant positions on the right with zeros. "
   ]
  },
  {
   "cell_type": "code",
   "execution_count": 7,
   "id": "ce93b9af",
   "metadata": {},
   "outputs": [
    {
     "name": "stdout",
     "output_type": "stream",
     "text": [
      "5\n"
     ]
    }
   ],
   "source": [
    "x = 10  # Binary: 1010\n",
    "\n",
    "# Right shifting x by 1 position\n",
    "# Each shift to the right is equivalent to dividing the number by 2.\n",
    "result = x >> 1  # Binary: 0101, Decimal: 5\n",
    "print(result)"
   ]
  },
  {
   "cell_type": "code",
   "execution_count": 8,
   "id": "fba93720",
   "metadata": {},
   "outputs": [
    {
     "name": "stdout",
     "output_type": "stream",
     "text": [
      "20\n"
     ]
    }
   ],
   "source": [
    "x = 10  # Binary: 1010\n",
    "\n",
    "# Left shifting x by 1 position\n",
    "# Each shift to the left is equivalent to multiplying the number by 2.\n",
    "result = x << 1  # Binary: 10100, Decimal: 20\n",
    "print(result)"
   ]
  },
  {
   "cell_type": "markdown",
   "id": "5bbb8fed",
   "metadata": {},
   "source": [
    "Q.5. Create a list containing int type data of length 15. Then write a code to check if 10 is\n",
    "present in the list or not."
   ]
  },
  {
   "cell_type": "code",
   "execution_count": 18,
   "id": "55d944b4",
   "metadata": {},
   "outputs": [],
   "source": [
    "# import random module to make list with random integers\n",
    "import random\n",
    "my_list = []\n",
    "for i in range(1, 16):\n",
    "    my_list.append(random.randint(1, 15))"
   ]
  },
  {
   "cell_type": "code",
   "execution_count": 19,
   "id": "b42ab7dd",
   "metadata": {},
   "outputs": [
    {
     "data": {
      "text/plain": [
       "15"
      ]
     },
     "execution_count": 19,
     "metadata": {},
     "output_type": "execute_result"
    }
   ],
   "source": [
    "len(my_list)"
   ]
  },
  {
   "cell_type": "code",
   "execution_count": 20,
   "id": "d532884d",
   "metadata": {},
   "outputs": [
    {
     "data": {
      "text/plain": [
       "[15, 2, 4, 14, 5, 1, 6, 8, 12, 10, 12, 7, 11, 2, 10]"
      ]
     },
     "execution_count": 20,
     "metadata": {},
     "output_type": "execute_result"
    }
   ],
   "source": [
    "my_list"
   ]
  },
  {
   "cell_type": "code",
   "execution_count": 21,
   "id": "7a0e372a",
   "metadata": {},
   "outputs": [
    {
     "name": "stdout",
     "output_type": "stream",
     "text": [
      "10 is present in the list\n"
     ]
    }
   ],
   "source": [
    "# let's check if 10 is present in the list\n",
    "if 10 in my_list:\n",
    "    print(\"10 is present in the list\")\n",
    "else:\n",
    "    print(\"10 is not present in the list\")"
   ]
  }
 ],
 "metadata": {
  "kernelspec": {
   "display_name": "Python 3 (ipykernel)",
   "language": "python",
   "name": "python3"
  },
  "language_info": {
   "codemirror_mode": {
    "name": "ipython",
    "version": 3
   },
   "file_extension": ".py",
   "mimetype": "text/x-python",
   "name": "python",
   "nbconvert_exporter": "python",
   "pygments_lexer": "ipython3",
   "version": "3.10.5"
  }
 },
 "nbformat": 4,
 "nbformat_minor": 5
}
