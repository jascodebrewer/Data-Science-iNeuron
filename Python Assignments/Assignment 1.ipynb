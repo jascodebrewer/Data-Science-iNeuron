{
 "cells": [
  {
   "cell_type": "markdown",
   "id": "49ff3d76",
   "metadata": {},
   "source": [
    "1. In the below elements which of them are values or an expression? eg:- values can be integer or string and expressions will be mathematical operators.\n",
    "\n",
    "'*'  : This is an expression (mathematical operator).  \n",
    "'hello': This is a value.  \n",
    "-87.8: This is a value.  \n",
    "'-' : This is an expression (mathematical operator).\n",
    "'/' : This is an expression (mathematical operator).\n",
    "'+'\t: This is an expression (mathematical operator).\n",
    "6 : This is a value."
   ]
  },
  {
   "cell_type": "markdown",
   "id": "488b53ea",
   "metadata": {},
   "source": [
    "2. What is the difference between string and variable?  \n",
    "\n",
    "A variable is the named storage location that holds a value whereas string is a data type that consists of characters. A variable can hold values of various data types, including strings.  \n",
    "e.g. a = ‘summer’  \n",
    "a is the variable name and ‘summer’ is a string"
   ]
  },
  {
   "cell_type": "markdown",
   "id": "645a9968",
   "metadata": {},
   "source": [
    "3. Describe three different data types.  \n",
    "\n",
    "Integer: A whole number that can be negative or positive,  \n",
    "Float: Numbers with a decimal point,  \n",
    "and String: A sequence of characters."
   ]
  },
  {
   "cell_type": "markdown",
   "id": "0a603a88",
   "metadata": {},
   "source": [
    "4. What is an expression made up of? What do all expressions do?  \n",
    "\n",
    "Expressions consists of values, variables, operators, and/or function calls to perform computations and produce a value as the result. Expressions can be as simple as a single value or variable, or they can be complex with multiple components and operators."
   ]
  },
  {
   "cell_type": "markdown",
   "id": "0c4db420",
   "metadata": {},
   "source": [
    "5. This assignment statements, like spam = 10. What is the difference between an expression and a statement?  \n",
    "\n",
    "Expression produces a value, whereas a statement does not. Expressions are used to compute values, which can then be used in statements or other expressions.  \n",
    "Here spam = 10 is a statement, where value 10 is assigned to a variable spam."
   ]
  },
  {
   "cell_type": "markdown",
   "id": "f0b9035d",
   "metadata": {},
   "source": [
    "6. After running the following code, what does the variable bacon contain?  \n",
    "\n",
    "bacon = 22  \n",
    "bacon + 1  \n",
    "After the code is run, the value of bacon becomes 23."
   ]
  },
  {
   "cell_type": "markdown",
   "id": "1d6cb17e",
   "metadata": {},
   "source": [
    "7. What should the values of the following two terms be?  \n",
    "\n",
    "'spam' + 'spamspam' This will become: spamspamspam  \n",
    "'spam' * 3\tThis too will become: spamspamspam"
   ]
  },
  {
   "cell_type": "markdown",
   "id": "257601f1",
   "metadata": {},
   "source": [
    "8. Why is eggs a valid variable name while 100 is invalid?  \n",
    "\n",
    "‘eggs’ is a valid variable name because it contains characters (a-z) and does not start with a digit, whereas 100 is number (integer) and a variable cannot start with a number. "
   ]
  },
  {
   "cell_type": "markdown",
   "id": "ed21b118",
   "metadata": {},
   "source": [
    "9. What three functions can be used to get the integer, floating-point number, or string version of a value?\n",
    "\n",
    "The three functions int(), float(), and str() can be used to convert a value to its corresponding integer, floating-point number, or string representation, respectively."
   ]
  },
  {
   "cell_type": "markdown",
   "id": "cf4a4078",
   "metadata": {},
   "source": [
    "10. Why does this expression cause an error? How can you fix it?\n",
    "\n",
    "'I have eaten ' + 99 + ' burritos.'\n",
    "99 is a number and hence it can’t be concatenated with the strings using '+' operator. In order to fix this error it should be converted to string. The correct answer is:\n",
    "                            'I have eaten ' + '99' + ' burritos.'"
   ]
  },
  {
   "cell_type": "code",
   "execution_count": null,
   "id": "4aafa472",
   "metadata": {},
   "outputs": [],
   "source": []
  }
 ],
 "metadata": {
  "kernelspec": {
   "display_name": "Python 3 (ipykernel)",
   "language": "python",
   "name": "python3"
  },
  "language_info": {
   "codemirror_mode": {
    "name": "ipython",
    "version": 3
   },
   "file_extension": ".py",
   "mimetype": "text/x-python",
   "name": "python",
   "nbconvert_exporter": "python",
   "pygments_lexer": "ipython3",
   "version": "3.10.5"
  }
 },
 "nbformat": 4,
 "nbformat_minor": 5
}
