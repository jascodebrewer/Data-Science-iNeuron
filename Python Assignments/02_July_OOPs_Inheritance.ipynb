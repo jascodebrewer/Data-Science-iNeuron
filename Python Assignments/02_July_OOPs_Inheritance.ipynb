{
 "cells": [
  {
   "cell_type": "markdown",
   "id": "2ef9083a",
   "metadata": {},
   "source": [
    "1. Explain what inheritance is in object-oriented programming and why it is used.\n",
    "\n",
    "Inheritance is a fundamental concept in object-oriented programming (OOP) that allows classes to inherit properties and behaviors from other classes. It establishes a hierarchical relationship between classes, where a derived class (also known as a subclass or child class) inherits characteristics from a base class (also known as a superclass or parent class).\n",
    "\n",
    "Inheritance is used in OOP for several reasons:\n",
    "\n",
    "- Code Reusability: Inheritance promotes code reuse by allowing classes to inherit common attributes and methods from a base class.\n",
    "- Code Organization and Modularity: Inheritance helps in organizing and structuring code by creating a hierarchical class structure\n",
    "- Code Abstraction and Encapsulation: Inheritance supports the principle of abstraction by allowing the definition of common attributes and methods in a base class, while hiding the implementation details from the derived classes. \n",
    "- Extensibility and Flexibility: Inheritance allows for the extension and customization of existing classes without modifying their original implementation. \n",
    "- Polymorphism: It means that objects of different types can be used interchangeably as long as they share a common interface. "
   ]
  },
  {
   "cell_type": "markdown",
   "id": "f4adcbae",
   "metadata": {},
   "source": [
    "2. Discuss the concept of single inheritance and multiple inheritance, highlighting their differences and advantages.\n",
    "\n",
    "Single Inheritance:\n",
    "\n",
    "- Single inheritance refers to the concept where a derived class inherits properties and behaviors from a single base class.\n",
    "- In single inheritance, a derived class can extend the functionality of only one base class.\n",
    "- The derived class inherits all the non-private members of the base class and can add new members or override existing ones.\n",
    "\n",
    "Multiple inheritance: \n",
    "\n",
    "- Multiple inheritance refers to the concept where a derived class can inherit properties and behaviors from multiple base classes.\n",
    "- In multiple inheritance, a derived class can extend the functionality of multiple base classes by inheriting from them.\n",
    "- The derived class inherits all the non-private members of each base class, allowing it to combine the features and behaviors of multiple sources.\n",
    "\n",
    "Advantages of Single Inheritance:\n",
    "\n",
    "- Simplicity and clarity in class hierarchy.\n",
    "- Promotes code organization and maintainability.\n",
    "- Supports code reuse through inheritance from a single base class.\n",
    "\n",
    "Advantages of Multiple Inheritance:\n",
    "\n",
    "- Greater flexibility and ability to inherit from multiple unrelated classes.\n",
    "- Enables composition of classes with diverse functionality.\n",
    "- Facilitates code reuse from multiple sources.\n",
    "- Can model complex relationships and behaviors more effectively."
   ]
  },
  {
   "cell_type": "markdown",
   "id": "d52341f8",
   "metadata": {},
   "source": [
    "3. Explain the terms \"base class\" and \"derived class\" in the context of inheritance.\n",
    "\n",
    "The base class, also known as a superclass or parent class, serves as the foundation for the derived class. It defines the common attributes and behaviors that can be shared among multiple derived classes. \n",
    "\n",
    "A derived class, also known as a subclass or child class, is a class that inherits properties, methods, and attributes from a base class or superclass. It extends the functionality of the base class by adding new features or overriding existing ones. The derived class inherits all the non-private members (methods and attributes) of the base class and can access and utilize them as its own."
   ]
  },
  {
   "cell_type": "markdown",
   "id": "2a31b2a9",
   "metadata": {},
   "source": [
    "4. What is the significance of the \"protected\" access modifier in inheritance? How does it differ from \"private\" and \"public\" modifiers?\n",
    "\n",
    "The \"protected\" access modifier allows class members to be accessed within the class itself and its derived classes. This means that these members can be utilized by both the base class and any classes derived from it. However, they are not accessible outside of the class hierarchy, meaning that they cannot be accessed by code unrelated to the class and its derived classes. \n",
    "\n",
    "On the other hand, members declared as \"public\" can be accessed from any part of the program, including other classes, derived classes, and external code. They offer unrestricted accessibility. \n",
    "\n",
    "Conversely, members declared as \"private\" are only accessible within the class in which they are defined, and they cannot be accessed by derived classes or other parts of the program. \n",
    "\n",
    "The purpose of using the \"protected\" access modifier is to provide controlled access to certain class members for derived classes while still restricting access from code outside of the class hierarchy."
   ]
  },
  {
   "cell_type": "markdown",
   "id": "f1b77aca",
   "metadata": {},
   "source": [
    "5. What is the purpose of the \"super\" keyword in inheritance? Provide an example.\n",
    "\n",
    "Using super keyword, one can access the methods or attributes of the parent class in the child class. \n",
    "\n",
    "For example:"
   ]
  },
  {
   "cell_type": "code",
   "execution_count": 29,
   "id": "76282df9",
   "metadata": {},
   "outputs": [],
   "source": [
    "# Parent CLass\n",
    "class School:\n",
    "    def __init__(self, name, position):\n",
    "        self.name = name\n",
    "        self.position = position\n",
    "\n",
    "# Child Class\n",
    "class Teacher(School):\n",
    "    def __init__(self, name, position, department):\n",
    "        # accessing name and position attributes of parent's class \"School\" using super keyword\n",
    "        super().__init__(name, position)\n",
    "        self.department = department\n",
    "        \n",
    "    def show_info(self):\n",
    "        print(\"Teacher\\'s Information: \")\n",
    "        print(\"Name: \", self.name)\n",
    "        print(\"Position: \", self.position)       \n",
    "        print(\"Department: \", self.department)\n",
    "    "
   ]
  },
  {
   "cell_type": "code",
   "execution_count": 27,
   "id": "8cfb9645",
   "metadata": {},
   "outputs": [],
   "source": [
    "teacher1 = Teacher(\"Bob Vance\", \"Assistant Professor\", \"Chemistry\")"
   ]
  },
  {
   "cell_type": "code",
   "execution_count": 28,
   "id": "9d630292",
   "metadata": {},
   "outputs": [
    {
     "name": "stdout",
     "output_type": "stream",
     "text": [
      "Teacher's Information: \n",
      "Name:  Bob Vance\n",
      "Position:  Assistant Professor\n",
      "Department:  Chemistry\n"
     ]
    }
   ],
   "source": [
    "teacher1.show_info()"
   ]
  },
  {
   "cell_type": "markdown",
   "id": "28b3900b",
   "metadata": {},
   "source": [
    "6. Create a base class called \"Vehicle\" with attributes like \"make\", \"model\", and \"year\".\n",
    "Then, create a derived class called \"Car\" that inherits from \"Vehicle\" and adds an\n",
    "attribute called \"fuel_type\". Implement appropriate methods in both classes."
   ]
  },
  {
   "cell_type": "code",
   "execution_count": 1,
   "id": "d51fbdeb",
   "metadata": {},
   "outputs": [],
   "source": [
    "class Vehicle:\n",
    "    def __init__(self, make, model, year):\n",
    "        self.make = make  # Represents the make of the vehicle\n",
    "        self.model = model  # Represents the model of the vehicle\n",
    "        self.year = year  # Represents the year of the vehicle\n",
    "        \n",
    "    def display_info(self):\n",
    "        print(\"Vehicle Information:\")\n",
    "        print(\"Make:\", self.make)\n",
    "        print(\"Model:\", self.model)\n",
    "        print(\"Year:\", self.year)\n",
    "\n",
    "class Car(Vehicle):\n",
    "    def __init__(self, make, model, year, fuel_type):\n",
    "        # Calls the parent class's __init__() method to initialize make, model, and year attributes\n",
    "        super().__init__(make, model, year)  \n",
    "        self.fuel_type = fuel_type  # Represents the fuel type of the car\n",
    "        \n",
    "    def display_more_info(self):\n",
    "        # Calls the parent class's display_info() method to display basic vehicle information\n",
    "        super().display_info()  \n",
    "        print(\"Fuel Type:\", self.fuel_type)  # Prints the fuel type of the car\n"
   ]
  },
  {
   "cell_type": "code",
   "execution_count": 2,
   "id": "71fcc0b6",
   "metadata": {},
   "outputs": [],
   "source": [
    "# creating instance of class Car that inherits certain attributes from parent class 'Vehicle'\n",
    "car1 = Car('Toyota', 'Camry', 2022, 'Gasoline')"
   ]
  },
  {
   "cell_type": "code",
   "execution_count": 3,
   "id": "e320b49d",
   "metadata": {},
   "outputs": [
    {
     "name": "stdout",
     "output_type": "stream",
     "text": [
      "Vehicle Information:\n",
      "Make: Toyota\n",
      "Model: Camry\n",
      "Year: 2022\n",
      "Fuel Type: Gasoline\n"
     ]
    }
   ],
   "source": [
    "# accessing method of Car class that inherits parent class's display_info() method\n",
    "car1.display_more_info()"
   ]
  },
  {
   "cell_type": "markdown",
   "id": "d3c1e557",
   "metadata": {},
   "source": [
    "7. Create a base class called \"Employee\" with attributes like \"name\" and \"salary.\"\n",
    "Derive two classes, \"Manager\" and \"Developer,\" from \"Employee.\" Add an additional\n",
    "attribute called \"department\" for the \"Manager\" class and \"programming_language\"\n",
    "for the \"Developer\" class."
   ]
  },
  {
   "cell_type": "code",
   "execution_count": 4,
   "id": "0bb6b1be",
   "metadata": {},
   "outputs": [],
   "source": [
    "class Employee:\n",
    "    def __init__(self, name, salary):\n",
    "        self.name = name  # Represents the name of the employee\n",
    "        self.salary = salary  # Represents the salary of the employee\n",
    "    \n",
    "    def employee_info(self):\n",
    "        print(\"Employee Information:\")\n",
    "        print(f\"   Name: {self.name}\")\n",
    "        print(f\"   Salary: {self.salary}\")\n",
    "        \n",
    "class Manager(Employee):\n",
    "    def __init__(self, name, salary, department):\n",
    "        super().__init__(name, salary)\n",
    "        self.department = department  # Represents the department of the manager\n",
    "        \n",
    "    def manager_info(self):\n",
    "        super().employee_info()\n",
    "        print(f\"   Department: {self.department}\")\n",
    "\n",
    "class Developer(Employee):\n",
    "    def __init__(self, name, salary, programming_language):\n",
    "        super().__init__(name, salary)\n",
    "        self.programming_language = programming_language  # Represents the programming language of the developer\n",
    "        \n",
    "    def developer_info(self):\n",
    "        super().employee_info()\n",
    "        print(f\"   Programming Language: {self.programming_language}\")\n"
   ]
  },
  {
   "cell_type": "code",
   "execution_count": 5,
   "id": "81c370e9",
   "metadata": {},
   "outputs": [],
   "source": [
    "# creating instances of class Manager and Developer respectively\n",
    "manager1 = Manager(\"Michael Scott\", 50000, 'Sales')\n",
    "developer1 = Developer(\"Jim\", 20000, 'Python')"
   ]
  },
  {
   "cell_type": "code",
   "execution_count": 6,
   "id": "66429961",
   "metadata": {},
   "outputs": [
    {
     "name": "stdout",
     "output_type": "stream",
     "text": [
      "Employee Information:\n",
      "   Name: Michael Scott\n",
      "   Salary: 50000\n",
      "   Department: Sales\n"
     ]
    }
   ],
   "source": [
    "# Display the manager information\n",
    "manager1.manager_info()"
   ]
  },
  {
   "cell_type": "code",
   "execution_count": 7,
   "id": "b6990bd1",
   "metadata": {},
   "outputs": [
    {
     "name": "stdout",
     "output_type": "stream",
     "text": [
      "Employee Information:\n",
      "   Name: Jim\n",
      "   Salary: 20000\n",
      "   Programming Language: Python\n"
     ]
    }
   ],
   "source": [
    "# # Display the developer information\n",
    "developer1.developer_info()"
   ]
  },
  {
   "cell_type": "markdown",
   "id": "d71c3cb0",
   "metadata": {},
   "source": [
    "8. Design a base class called \"Shape\" with attributes like \"colour\" and \"border_width.\"\n",
    "Create derived classes, \"Rectangle\" and \"Circle,\" that inherit from \"Shape\" and add\n",
    "specific attributes like \"length\" and \"width\" for the \"Rectangle\" class and \"radius\" for\n",
    "the \"Circle\" class."
   ]
  },
  {
   "cell_type": "code",
   "execution_count": 8,
   "id": "2834160b",
   "metadata": {},
   "outputs": [],
   "source": [
    "class Shape:\n",
    "    def __init__(self, colour, border_width):\n",
    "        self.colour = colour  # Attribute: Represents the colour of the shape\n",
    "        self.border_width = border_width  # Attribute: Represents the border width of the shape\n",
    "        \n",
    "    def show_info(self):\n",
    "        print(\"Colour:\", self.colour)\n",
    "        print(\"Border Width:\", self.border_width)\n",
    "        \n",
    "class Rectangle(Shape):\n",
    "    def __init__(self, colour, border_width, length, width):\n",
    "        super().__init__(colour, border_width)\n",
    "        self.length = length  # Attribute: Represents the length of the rectangle\n",
    "        self.width = width  # Attribute: Represents the width of the rectangle\n",
    "        \n",
    "    def shape_info(self):\n",
    "        print(\"The rectangle has the following properties:\")\n",
    "        super().show_info()  # Method: Call the parent class's show_info() method\n",
    "        print(\"Length:\", self.length)\n",
    "        print(\"Width:\", self.width)\n",
    "        print(\"Area:\", self.length * self.width)\n",
    "        \n",
    "class Circle(Shape):\n",
    "    def __init__(self, colour, border_width, radius):\n",
    "        super().__init__(colour, border_width)\n",
    "        self.radius = radius  # Attribute: Represents the radius of the circle\n",
    "        \n",
    "    def shape_info(self):\n",
    "        print(\"The circle has the following properties:\")\n",
    "        super().show_info()  # Method: Call the parent class's show_info() method\n",
    "        print(\"Radius:\", self.radius) \n",
    "        print(\"Area:\", 3.14 * self.radius**2)\n"
   ]
  },
  {
   "cell_type": "code",
   "execution_count": 9,
   "id": "44d06541",
   "metadata": {},
   "outputs": [],
   "source": [
    "# create instances of class Rectangle and Circle\n",
    "\n",
    "rect1 = Rectangle('Red', 2.5, 20, 10)\n",
    "circle1 = Circle(\"Blue\", 2, 10)"
   ]
  },
  {
   "cell_type": "code",
   "execution_count": 10,
   "id": "7b6fea6d",
   "metadata": {},
   "outputs": [
    {
     "name": "stdout",
     "output_type": "stream",
     "text": [
      "The rectangle has the following properties:\n",
      "Colour: Red\n",
      "Border Width: 2.5\n",
      "Length: 20\n",
      "Width: 10\n",
      "Area: 200\n"
     ]
    }
   ],
   "source": [
    "# get shape's info\n",
    "rect1.shape_info()"
   ]
  },
  {
   "cell_type": "code",
   "execution_count": 11,
   "id": "906a7158",
   "metadata": {},
   "outputs": [
    {
     "name": "stdout",
     "output_type": "stream",
     "text": [
      "The circle has the following properties:\n",
      "Colour: Blue\n",
      "Border Width: 2\n",
      "Radius: 10\n",
      "Area: 314.0\n"
     ]
    }
   ],
   "source": [
    "# get shape's info\n",
    "circle1.shape_info()"
   ]
  },
  {
   "cell_type": "markdown",
   "id": "7792c6f9",
   "metadata": {},
   "source": [
    "9. Create a base class called \"Device\" with attributes like \"brand\" and \"model.\" Derive\n",
    "two classes, \"Phone\" and \"Tablet,\" from \"Device.\" Add specific attributes like\n",
    "\"screen_size\" for the \"Phone\" class and \"battery_capacity\" for the \"Tablet\" class."
   ]
  },
  {
   "cell_type": "code",
   "execution_count": 12,
   "id": "f0073f1b",
   "metadata": {},
   "outputs": [],
   "source": [
    "class Device:\n",
    "    def __init__(self, brand, model):\n",
    "        self.brand = brand  # Attribute: Represents the brand of the device\n",
    "        self.model = model  # Attribute: Represents the model of the device\n",
    "        \n",
    "    def device_info(self):\n",
    "        print(\"Brand:\", self.brand)\n",
    "        print(\"Model:\", self.model)\n",
    "        \n",
    "class Phone(Device):\n",
    "    def __init__(self, brand, model, screen_size):\n",
    "        super().__init__(brand, model)  # Call parent class's __init__ method correctly\n",
    "        self.screen_size = screen_size  # Attribute: Represents the screen size of the phone\n",
    "        \n",
    "    def phone_info(self):\n",
    "        print(\"Phone's Information:\")\n",
    "        super().device_info()  # Call parent class's device_info method\n",
    "        print(\"Screen Size:\", self.screen_size)\n",
    "        \n",
    "class Tablet(Device):\n",
    "    def __init__(self, brand, model, battery_capacity):\n",
    "        super().__init__(brand, model)  # Call parent class's __init__ method correctly\n",
    "        self.battery_capacity = battery_capacity  # Attribute: Represents the battery capacity of the tablet\n",
    "        \n",
    "    def tablet_info(self):\n",
    "        print(\"Tablet's Information:\")\n",
    "        super().device_info()  # Call parent class's device_info method\n",
    "        print(\"Battery Capacity:\", self.battery_capacity)\n"
   ]
  },
  {
   "cell_type": "code",
   "execution_count": 13,
   "id": "13103f57",
   "metadata": {},
   "outputs": [],
   "source": [
    "# Creating an instance of the Phone class\n",
    "my_phone = Phone(\"Apple\", \"iPhone 12\", \"6.1 inches\")"
   ]
  },
  {
   "cell_type": "code",
   "execution_count": 14,
   "id": "e7d7417b",
   "metadata": {},
   "outputs": [
    {
     "name": "stdout",
     "output_type": "stream",
     "text": [
      "Phone's Information:\n",
      "Brand: Apple\n",
      "Model: iPhone 12\n",
      "Screen Size: 6.1 inches\n"
     ]
    }
   ],
   "source": [
    "# Calling the phone_info method\n",
    "my_phone.phone_info()"
   ]
  },
  {
   "cell_type": "code",
   "execution_count": 15,
   "id": "0c8413a2",
   "metadata": {},
   "outputs": [],
   "source": [
    "# Creating an instance of the Tablet class\n",
    "my_tablet = Tablet(\"Samsung\", \"Galaxy Tab S7\", \"8000 mAh\")"
   ]
  },
  {
   "cell_type": "code",
   "execution_count": 16,
   "id": "b880f1a9",
   "metadata": {},
   "outputs": [
    {
     "name": "stdout",
     "output_type": "stream",
     "text": [
      "Tablet's Information:\n",
      "Brand: Samsung\n",
      "Model: Galaxy Tab S7\n",
      "Battery Capacity: 8000 mAh\n"
     ]
    }
   ],
   "source": [
    "# Calling the tablet_info method\n",
    "my_tablet.tablet_info()"
   ]
  },
  {
   "cell_type": "markdown",
   "id": "74433109",
   "metadata": {},
   "source": [
    "10. Create a base class called \"BankAccount\" with attributes like \"account_number\" and\n",
    "\"balance.\" Derive two classes, \"SavingsAccount\" and \"CheckingAccount,\" from\n",
    "\"BankAccount.\" Add specific methods like \"calculate_interest\" for the\n",
    "\"SavingsAccount\" class and \"deduct_fees\" for the \"CheckingAccount\" class."
   ]
  },
  {
   "cell_type": "code",
   "execution_count": 17,
   "id": "8fde58e4",
   "metadata": {},
   "outputs": [],
   "source": [
    "class BankAccount:\n",
    "    def __init__(self, account_number, balance):\n",
    "        self.account_number = account_number\n",
    "        self.balance = balance\n",
    "        \n",
    "    def display_account_info(self):\n",
    "        print(\"Account Information:\")\n",
    "        print(\"Account Number:\", self.account_number)\n",
    "        print(\"Balance:\", self.balance)\n",
    "        \n",
    "class SavingsAccount(BankAccount):\n",
    "    def __init__(self, account_number, balance):\n",
    "        super().__init__(account_number, balance)\n",
    "        self.interest_rate = 0.05\n",
    "        \n",
    "    def calculate_interest(self):\n",
    "        interest = self.balance * self.interest_rate\n",
    "        self.balance += interest\n",
    "        print(\"Interest calculated and added to the account.\")\n",
    "        \n",
    "class CheckingAccount(BankAccount):\n",
    "    def __init__(self, account_number, balance):\n",
    "        super().__init__(account_number, balance)\n",
    "        self.transaction_fee = 0.1  # Attribute: Represents the transaction fee for checking account\n",
    "        \n",
    "    def deduct_fees(self):\n",
    "        fee = self.balance * self.transaction_fee\n",
    "        self.balance -= fee\n",
    "        print(\"Transaction fee deducted from the account.\")\n",
    "    "
   ]
  },
  {
   "cell_type": "code",
   "execution_count": 18,
   "id": "5c595f22",
   "metadata": {},
   "outputs": [],
   "source": [
    "# Creating an instance of SavingsAccount\n",
    "savings_account = SavingsAccount(\"SA123456789\", 1000.0)"
   ]
  },
  {
   "cell_type": "code",
   "execution_count": 19,
   "id": "1f33a46d",
   "metadata": {},
   "outputs": [
    {
     "name": "stdout",
     "output_type": "stream",
     "text": [
      "Account Information:\n",
      "Account Number: SA123456789\n",
      "Balance: 1000.0\n"
     ]
    }
   ],
   "source": [
    "# Displaying account information\n",
    "savings_account.display_account_info()"
   ]
  },
  {
   "cell_type": "code",
   "execution_count": 20,
   "id": "b026578e",
   "metadata": {},
   "outputs": [
    {
     "name": "stdout",
     "output_type": "stream",
     "text": [
      "Interest calculated and added to the account.\n"
     ]
    }
   ],
   "source": [
    "# Calculating interest\n",
    "savings_account.calculate_interest()"
   ]
  },
  {
   "cell_type": "code",
   "execution_count": 21,
   "id": "de3d33f4",
   "metadata": {},
   "outputs": [
    {
     "name": "stdout",
     "output_type": "stream",
     "text": [
      "Account Information:\n",
      "Account Number: SA123456789\n",
      "Balance: 1050.0\n"
     ]
    }
   ],
   "source": [
    "# Displaying updated account information\n",
    "savings_account.display_account_info()"
   ]
  },
  {
   "cell_type": "code",
   "execution_count": 22,
   "id": "33a34597",
   "metadata": {},
   "outputs": [],
   "source": [
    "# Creating an instance of CheckingAccount\n",
    "checking_account = CheckingAccount(\"CA987654321\", 2000.0)"
   ]
  },
  {
   "cell_type": "code",
   "execution_count": 23,
   "id": "acecd2b3",
   "metadata": {},
   "outputs": [
    {
     "name": "stdout",
     "output_type": "stream",
     "text": [
      "Account Information:\n",
      "Account Number: CA987654321\n",
      "Balance: 2000.0\n"
     ]
    }
   ],
   "source": [
    "# Displaying account information\n",
    "checking_account.display_account_info()"
   ]
  },
  {
   "cell_type": "code",
   "execution_count": 24,
   "id": "a9b2991a",
   "metadata": {},
   "outputs": [
    {
     "name": "stdout",
     "output_type": "stream",
     "text": [
      "Transaction fee deducted from the account.\n"
     ]
    }
   ],
   "source": [
    "# Deducting fees\n",
    "checking_account.deduct_fees()"
   ]
  },
  {
   "cell_type": "code",
   "execution_count": 25,
   "id": "2b39495f",
   "metadata": {},
   "outputs": [
    {
     "name": "stdout",
     "output_type": "stream",
     "text": [
      "Account Information:\n",
      "Account Number: CA987654321\n",
      "Balance: 1800.0\n"
     ]
    }
   ],
   "source": [
    "# Displaying updated account information\n",
    "checking_account.display_account_info()"
   ]
  }
 ],
 "metadata": {
  "kernelspec": {
   "display_name": "Python 3 (ipykernel)",
   "language": "python",
   "name": "python3"
  },
  "language_info": {
   "codemirror_mode": {
    "name": "ipython",
    "version": 3
   },
   "file_extension": ".py",
   "mimetype": "text/x-python",
   "name": "python",
   "nbconvert_exporter": "python",
   "pygments_lexer": "ipython3",
   "version": "3.10.5"
  }
 },
 "nbformat": 4,
 "nbformat_minor": 5
}
