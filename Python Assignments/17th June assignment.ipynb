{
 "cells": [
  {
   "cell_type": "markdown",
   "id": "45ef211d",
   "metadata": {},
   "source": [
    "1. What is the role of try and exception block?\n",
    "\n",
    "Try and exception block are used to catch an exception that may occur during the execution of the program. In try block normal functionality of code is written and the exception is caught in except block. The except block specifies the type of exception it can handle. It provides alternative actions or error handling logic when an exception occurs."
   ]
  },
  {
   "cell_type": "markdown",
   "id": "daeed53c",
   "metadata": {},
   "source": [
    "2. What is the syntax for a basic try-except block?"
   ]
  },
  {
   "cell_type": "code",
   "execution_count": null,
   "id": "29829991",
   "metadata": {},
   "outputs": [],
   "source": [
    "try:\n",
    "    # Code block where an exception may occur\n",
    "except Exception:\n",
    "    # Exception handling code block"
   ]
  },
  {
   "cell_type": "markdown",
   "id": "3f085117",
   "metadata": {},
   "source": [
    "3. What happens if an exception occurs inside a try block and there is no matching except block?\n",
    "\n",
    "If an exception is not caught by an except block inside a try block, it keeps moving up to the next higher-level try-except block. If there is no higher-level try-except block or the exception is not caught there either, the program will stop running and show an error message indicating an unhandled exception."
   ]
  },
  {
   "cell_type": "markdown",
   "id": "af8fbecd",
   "metadata": {},
   "source": [
    "4. What is the difference between using a bare except block and specifying a specific exception type?\n",
    "\n",
    "A bare except block does not specify any particular exception type after the except keyword. It acts as a catch-all for any exception that occurs within the corresponding try block. This means that regardless of the type of exception, the code inside the bare except block will execute if an exception is raised. \n",
    "\n",
    "When specifying a specific exception type after the except keyword, the except block will only handle exceptions of that particular type. Using specific exception types helps in better understanding and debugging of the code by explicitly identifying the potential exceptions that can occur."
   ]
  },
  {
   "cell_type": "markdown",
   "id": "2ee7efa9",
   "metadata": {},
   "source": [
    "5. Can you have nested try-except blocks in Python? If yes, then give an example.\n",
    "\n",
    "Yes, we can have nested try-except blocks in Python. For example:"
   ]
  },
  {
   "cell_type": "code",
   "execution_count": null,
   "id": "45e92c70",
   "metadata": {},
   "outputs": [],
   "source": [
    "try:\n",
    "    x = int(input(\"Enter first number: \"))\n",
    "    y = int(input(\"Enter second number: \"))\n",
    "    try:\n",
    "        d = x/y\n",
    "    except ZeroDivisionError:\n",
    "        print(\"You can\\'t divide a number by zero\")\n",
    "    else:\n",
    "        print(\"The result is: \", d)\n",
    "except ValueError:\n",
    "    print(\"Please enter only integer values\")"
   ]
  },
  {
   "cell_type": "markdown",
   "id": "64492596",
   "metadata": {},
   "source": [
    "6. Can we use multiple exception blocks, if yes then give an example.\n",
    "\n",
    "Yes, we can use multiple exception blocks. For example:"
   ]
  },
  {
   "cell_type": "code",
   "execution_count": 6,
   "id": "73ca569f",
   "metadata": {},
   "outputs": [
    {
     "name": "stdout",
     "output_type": "stream",
     "text": [
      "Enter first number: 10.2\n",
      "Please enter only integer values\n"
     ]
    }
   ],
   "source": [
    "try:\n",
    "    x = int(input(\"Enter first number: \"))\n",
    "    y = int(input(\"Enter second number: \"))\n",
    "    d = x/y\n",
    "except ZeroDivisionError:\n",
    "        print(\"You can\\'t divide a number by zero\")\n",
    "except ValueError:\n",
    "    print(\"Please enter only integer values\")\n",
    "else:\n",
    "    print(\"The result is: \", d)"
   ]
  },
  {
   "cell_type": "markdown",
   "id": "9e6ce3b1",
   "metadata": {},
   "source": [
    "7. Write the reason due to which following errors are raised:\n",
    "\n",
    "a. EOFError: Raised when the input() function reaches the end of the file or input stream before receiving any input.  \n",
    "b. FloatingPointError: Raised when a floating-point operation fails to produce a valid result.  \n",
    "c. IndexError: Raised when trying to access an index that is outside the range of valid indices for a sequence (e.g., list, tuple, string).   \n",
    "d. MemoryError: Raised when an operation fails due to insufficient memory.  \n",
    "e. OverflowError: Raised when the result of an arithmetic operation exceeds the maximum representable value.  \n",
    "f. TabError: Raised when there is an indentation-related issue, typically involving mixing tabs and spaces for indentation. \n",
    "g. ValueError: Raised when a function receives an argument of the correct type but with an invalid value.  "
   ]
  },
  {
   "cell_type": "markdown",
   "id": "fbfeefb2",
   "metadata": {},
   "source": [
    "8. Write code for the following given scenario and add try-exception block to it.\n",
    "a. Program to divide two numbers\n",
    "b. Program to convert a string to an integer\n",
    "c. Program to access an element in a list\n",
    "d. Program to handle a specific exception\n",
    "e. Program to handle any exception"
   ]
  },
  {
   "cell_type": "code",
   "execution_count": 8,
   "id": "d463f2f1",
   "metadata": {},
   "outputs": [
    {
     "name": "stdout",
     "output_type": "stream",
     "text": [
      "Enter the numerator: 10\n",
      "Enter the denominator: 0\n",
      "Division by zero error\n"
     ]
    }
   ],
   "source": [
    "# a. Program to divide two numbers\n",
    "\n",
    "try:\n",
    "    n = int(input(\"Enter the numerator: \"))\n",
    "    d = int(input(\"Enter the denominator: \"))    \n",
    "    result = n/d\n",
    "except ZeroDivisionError:\n",
    "    print(\"Division by zero error\")\n",
    "except ValueError:\n",
    "    print(\"Only integers are accepted\")\n",
    "else:\n",
    "    print(\"The result is: \", result)"
   ]
  },
  {
   "cell_type": "code",
   "execution_count": 17,
   "id": "788c7322",
   "metadata": {},
   "outputs": [
    {
     "name": "stdout",
     "output_type": "stream",
     "text": [
      "Enter a number: 10.2\n",
      "Invalid input. Please enter a valid integer.\n"
     ]
    }
   ],
   "source": [
    "# b. Program to convert a string to an integer\n",
    "\n",
    "try:\n",
    "    string_input = input(\"Enter a number: \")\n",
    "    number = int(string_input)\n",
    "    print(\"Converted integer:\", number)\n",
    "except ValueError:\n",
    "    print(\"Invalid input. Please enter a valid integer.\")\n"
   ]
  },
  {
   "cell_type": "code",
   "execution_count": 11,
   "id": "904a3d85",
   "metadata": {},
   "outputs": [
    {
     "name": "stdout",
     "output_type": "stream",
     "text": [
      "This index is not in the list\n"
     ]
    }
   ],
   "source": [
    "# c. Program to access an element in a list \n",
    "\n",
    "try:\n",
    "    list1 = [1,3,4,6]\n",
    "    x = list1[4]\n",
    "except IndexError:\n",
    "    print(\"This index is not in the list\")\n",
    "else:\n",
    "    print(x)"
   ]
  },
  {
   "cell_type": "code",
   "execution_count": 18,
   "id": "7f2eaa32",
   "metadata": {},
   "outputs": [
    {
     "name": "stdout",
     "output_type": "stream",
     "text": [
      "File Not Found\n"
     ]
    }
   ],
   "source": [
    "#  d. Program to handle a specific exception\n",
    "try:\n",
    "    file_path = \"my_file.txt\"\n",
    "    with open(file_path, 'r') as file:\n",
    "        contents = file.read()\n",
    "except FileNotFoundError:\n",
    "    print(\"File Not Found\")"
   ]
  },
  {
   "cell_type": "code",
   "execution_count": 14,
   "id": "5de9aa8d",
   "metadata": {},
   "outputs": [
    {
     "name": "stdout",
     "output_type": "stream",
     "text": [
      "Enter a number: 10\n",
      "Enter another number: 10.2\n",
      "An error occured, please check\n"
     ]
    }
   ],
   "source": [
    "# e. Program to handle any exception\n",
    "\n",
    "try:\n",
    "    x = int(input(\"Enter a number: \"))\n",
    "    y = int(input(\"Enter another number: \"))\n",
    "    a = x+y\n",
    "except:\n",
    "    print(\"An error occured, please check\")\n",
    "else:\n",
    "    print(a)"
   ]
  }
 ],
 "metadata": {
  "kernelspec": {
   "display_name": "Python 3 (ipykernel)",
   "language": "python",
   "name": "python3"
  },
  "language_info": {
   "codemirror_mode": {
    "name": "ipython",
    "version": 3
   },
   "file_extension": ".py",
   "mimetype": "text/x-python",
   "name": "python",
   "nbconvert_exporter": "python",
   "pygments_lexer": "ipython3",
   "version": "3.10.5"
  }
 },
 "nbformat": 4,
 "nbformat_minor": 5
}
